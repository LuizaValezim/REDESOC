{
 "cells": [
  {
   "cell_type": "code",
   "execution_count": 1,
   "id": "e343ee3a",
   "metadata": {},
   "outputs": [
    {
     "data": {
      "text/html": [
       "\n",
       "    <script src=\"/files/netpixi.min.js\"></script>\n"
      ],
      "text/plain": [
       "<IPython.core.display.HTML object>"
      ]
     },
     "metadata": {},
     "output_type": "display_data"
    }
   ],
   "source": [
    "import netpixi\n",
    "# from netpixi.integration.gt import *\n",
    "# from regression.integration.gt import *\n",
    "# import csv"
   ]
  },
  {
   "cell_type": "code",
   "execution_count": 2,
   "id": "80d6ad6d",
   "metadata": {
    "scrolled": false
   },
   "outputs": [
    {
     "data": {
      "text/html": [
       "\n",
       "        <div id=\"BS73g42ZUNq3YExPMoA9yL\"></div>\n",
       "        <script>netpixi.render('BS73g42ZUNq3YExPMoA9yL', 'exemplo.net.gz', 1, true, true, false);</script>\n",
       "    "
      ],
      "text/plain": [
       "<IPython.core.display.HTML object>"
      ]
     },
     "metadata": {},
     "output_type": "display_data"
    }
   ],
   "source": [
    "r = netpixi.render('exemplo.net.gz', infinite = True, aspect = 1);"
   ]
  },
  {
   "cell_type": "code",
   "execution_count": 6,
   "id": "c3eb3159",
   "metadata": {},
   "outputs": [
    {
     "data": {
      "text/html": [
       "\n",
       "        <div id=\"bW3b73KTXMjrLKAperu4UM\"></div>\n",
       "        <script>netpixi.call('bW3b73KTXMjrLKAperu4UM', 'BS73g42ZUNq3YExPMoA9yL', 'changeGraph', 'eyJ0eXBlIjogInNldHRpbmdzIiwgInByb3BzIjogeyJ2ZXJ0ZXgiOiB7ImNvbG9yIjogMTY3NzcyMTUsICJzaXplIjogMTV9fX0K');</script>\n",
       "    "
      ],
      "text/plain": [
       "<IPython.core.display.HTML object>"
      ]
     },
     "metadata": {},
     "output_type": "display_data"
    },
    {
     "data": {
      "text/html": [
       "\n",
       "        <div id=\"c7sdd9paTKUustobnwdESk\"></div>\n",
       "        <script>netpixi.call('c7sdd9paTKUustobnwdESk', 'BS73g42ZUNq3YExPMoA9yL', 'changeGraph', 'eyJ0eXBlIjogInNldHRpbmdzIiwgInByb3BzIjogeyJlZGdlIjogeyJ3aWR0aCI6IDF9fX0K');</script>\n",
       "    "
      ],
      "text/plain": [
       "<IPython.core.display.HTML object>"
      ]
     },
     "metadata": {},
     "output_type": "display_data"
    }
   ],
   "source": [
    "r.vertex_default(color=0xffffff, size=15)\n",
    "r.edge_default( width=1)"
   ]
  },
  {
   "cell_type": "code",
   "execution_count": null,
   "id": "75cd29ff",
   "metadata": {},
   "outputs": [],
   "source": []
  },
  {
   "cell_type": "code",
   "execution_count": null,
   "id": "f7baae18",
   "metadata": {},
   "outputs": [],
   "source": []
  }
 ],
 "metadata": {
  "kernelspec": {
   "display_name": "Python 3 (ipykernel)",
   "language": "python",
   "name": "python3"
  },
  "language_info": {
   "codemirror_mode": {
    "name": "ipython",
    "version": 3
   },
   "file_extension": ".py",
   "mimetype": "text/x-python",
   "name": "python",
   "nbconvert_exporter": "python",
   "pygments_lexer": "ipython3",
   "version": "3.10.6"
  }
 },
 "nbformat": 4,
 "nbformat_minor": 5
}
