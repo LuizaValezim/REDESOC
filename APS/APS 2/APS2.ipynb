{
 "cells": [
  {
   "cell_type": "markdown",
   "id": "990b9e42",
   "metadata": {},
   "source": [
    "# APS 2"
   ]
  },
  {
   "cell_type": "markdown",
   "id": "971a2e8c",
   "metadata": {},
   "source": [
    "Antonio Fonseca, Ellen Shen e Luiza Valezim"
   ]
  },
  {
   "cell_type": "markdown",
   "id": "2c45c747",
   "metadata": {},
   "source": [
    "Esta APS consiste em analisar o cálculo de métricas locais de vértices e a interpretação sobre essas redes e essas métricas. O dataset escolhido foi: https://snap.stanford.edu/data/facebook-large-page-page-network.html. Esse dataset tem como objetivo ver se há uma relação entre o conteúdo / assunto de cada página com suas curtidas em outras páginas.\n",
    "\n",
    "Análise inicial dos dados:\n",
    "- **O que os vértices da rede representam?** Eles representam as páginas que existem na rede social Facebook.\n",
    "- **O que as arestas da rede representam?** As arestas são as curtidas dadas entre as páginas.\n",
    "- **O que os grupos formados pela tarefa 4 representam?** Os grupos formados podem ser consideradas páginas que produzem conteúdo sobre assuntos semelhantes."
   ]
  },
  {
   "cell_type": "code",
   "execution_count": 2,
   "id": "c61b05af",
   "metadata": {},
   "outputs": [
    {
     "ename": "ModuleNotFoundError",
     "evalue": "No module named 'netpixi'",
     "output_type": "error",
     "traceback": [
      "\u001b[1;31m---------------------------------------------------------------------------\u001b[0m",
      "\u001b[1;31mModuleNotFoundError\u001b[0m                       Traceback (most recent call last)",
      "Input \u001b[1;32mIn [2]\u001b[0m, in \u001b[0;36m<cell line: 1>\u001b[1;34m()\u001b[0m\n\u001b[1;32m----> 1\u001b[0m \u001b[38;5;28;01mimport\u001b[39;00m \u001b[38;5;21;01mnetpixi\u001b[39;00m\n\u001b[0;32m      2\u001b[0m \u001b[38;5;28;01mimport\u001b[39;00m \u001b[38;5;21;01mnumpy\u001b[39;00m \u001b[38;5;28;01mas\u001b[39;00m \u001b[38;5;21;01mnp\u001b[39;00m\n\u001b[0;32m      3\u001b[0m \u001b[38;5;28;01mfrom\u001b[39;00m \u001b[38;5;21;01mnetpixi\u001b[39;00m\u001b[38;5;21;01m.\u001b[39;00m\u001b[38;5;21;01mintegration\u001b[39;00m\u001b[38;5;21;01m.\u001b[39;00m\u001b[38;5;21;01mgt\u001b[39;00m \u001b[38;5;28;01mimport\u001b[39;00m \u001b[38;5;241m*\u001b[39m\n",
      "\u001b[1;31mModuleNotFoundError\u001b[0m: No module named 'netpixi'"
     ]
    }
   ],
   "source": [
    "import netpixi\n",
    "import numpy as np\n",
    "from netpixi.integration.gt import *\n",
    "from regression.integration.gt import *\n",
    "from graph_tool import centrality"
   ]
  },
  {
   "cell_type": "markdown",
   "id": "da431e4d",
   "metadata": {},
   "source": [
    "colocar imagem "
   ]
  },
  {
   "cell_type": "markdown",
   "id": "4e0c6810",
   "metadata": {},
   "source": [
    "## Métricas de Centralidade"
   ]
  },
  {
   "cell_type": "markdown",
   "id": "aa9d2bbc",
   "metadata": {},
   "source": [
    "Essas métricas permitem a avaliação da importância de um nó dentro da rede."
   ]
  },
  {
   "cell_type": "code",
   "execution_count": 3,
   "id": "e3db8937",
   "metadata": {},
   "outputs": [],
   "source": [
    "#utilizando o grafo da APS1\n",
    "grafo = gt_load('facebook.net.gz')"
   ]
  },
  {
   "cell_type": "markdown",
   "id": "da483090",
   "metadata": {},
   "source": [
    "### Degree"
   ]
  },
  {
   "cell_type": "markdown",
   "id": "d03414a6",
   "metadata": {},
   "source": [
    "A centralidade de degree representa o número de ligações que um nó possui, dividido pelo número de ligações possíveis, ou seja, a quantidade de arestas do vértices.  Esta métrica é usada para identificar os nós que têm o maior número de ligações."
   ]
  },
  {
   "cell_type": "code",
   "execution_count": 4,
   "id": "0452e5ba",
   "metadata": {},
   "outputs": [],
   "source": [
    "#calculando a centralidade degree\n",
    "degree = gt_total_degree(grafo)\n",
    "grafo.add_vp('degree', degree)"
   ]
  },
  {
   "cell_type": "code",
   "execution_count": 22,
   "id": "aaa8a27e",
   "metadata": {},
   "outputs": [
    {
     "data": {
      "text/html": [
       "<div>\n",
       "<style scoped>\n",
       "    .dataframe tbody tr th:only-of-type {\n",
       "        vertical-align: middle;\n",
       "    }\n",
       "\n",
       "    .dataframe tbody tr th {\n",
       "        vertical-align: top;\n",
       "    }\n",
       "\n",
       "    .dataframe thead th {\n",
       "        text-align: right;\n",
       "    }\n",
       "</style>\n",
       "<table border=\"1\" class=\"dataframe\">\n",
       "  <thead>\n",
       "    <tr style=\"text-align: right;\">\n",
       "      <th></th>\n",
       "      <th>degree</th>\n",
       "      <th>betweenness</th>\n",
       "      <th>closeness</th>\n",
       "      <th>clustering</th>\n",
       "      <th>effsize</th>\n",
       "    </tr>\n",
       "    <tr>\n",
       "      <th>id</th>\n",
       "      <th></th>\n",
       "      <th></th>\n",
       "      <th></th>\n",
       "      <th></th>\n",
       "      <th></th>\n",
       "    </tr>\n",
       "  </thead>\n",
       "  <tbody>\n",
       "    <tr>\n",
       "      <th>293</th>\n",
       "      <td>0.031555</td>\n",
       "      <td>0.015055</td>\n",
       "      <td>0.298901</td>\n",
       "      <td>0.064621</td>\n",
       "      <td>663.248237</td>\n",
       "    </tr>\n",
       "    <tr>\n",
       "      <th>30</th>\n",
       "      <td>0.030175</td>\n",
       "      <td>0.039805</td>\n",
       "      <td>0.317413</td>\n",
       "      <td>0.042501</td>\n",
       "      <td>649.227139</td>\n",
       "    </tr>\n",
       "    <tr>\n",
       "      <th>32</th>\n",
       "      <td>0.029329</td>\n",
       "      <td>0.039820</td>\n",
       "      <td>0.317475</td>\n",
       "      <td>0.042682</td>\n",
       "      <td>630.915023</td>\n",
       "    </tr>\n",
       "    <tr>\n",
       "      <th>163</th>\n",
       "      <td>0.028929</td>\n",
       "      <td>0.010189</td>\n",
       "      <td>0.294336</td>\n",
       "      <td>0.066611</td>\n",
       "      <td>606.769231</td>\n",
       "    </tr>\n",
       "    <tr>\n",
       "      <th>3076</th>\n",
       "      <td>0.022431</td>\n",
       "      <td>0.008207</td>\n",
       "      <td>0.290695</td>\n",
       "      <td>0.080462</td>\n",
       "      <td>463.527778</td>\n",
       "    </tr>\n",
       "    <tr>\n",
       "      <th>...</th>\n",
       "      <td>...</td>\n",
       "      <td>...</td>\n",
       "      <td>...</td>\n",
       "      <td>...</td>\n",
       "      <td>...</td>\n",
       "    </tr>\n",
       "    <tr>\n",
       "      <th>22227</th>\n",
       "      <td>0.000045</td>\n",
       "      <td>0.000000</td>\n",
       "      <td>0.170319</td>\n",
       "      <td>0.000000</td>\n",
       "      <td>1.000000</td>\n",
       "    </tr>\n",
       "    <tr>\n",
       "      <th>15962</th>\n",
       "      <td>0.000045</td>\n",
       "      <td>0.000000</td>\n",
       "      <td>0.174932</td>\n",
       "      <td>0.000000</td>\n",
       "      <td>1.000000</td>\n",
       "    </tr>\n",
       "    <tr>\n",
       "      <th>20936</th>\n",
       "      <td>0.000045</td>\n",
       "      <td>0.000000</td>\n",
       "      <td>0.205039</td>\n",
       "      <td>0.000000</td>\n",
       "      <td>1.000000</td>\n",
       "    </tr>\n",
       "    <tr>\n",
       "      <th>20612</th>\n",
       "      <td>0.000045</td>\n",
       "      <td>0.000000</td>\n",
       "      <td>0.173699</td>\n",
       "      <td>0.000000</td>\n",
       "      <td>1.000000</td>\n",
       "    </tr>\n",
       "    <tr>\n",
       "      <th>21980</th>\n",
       "      <td>0.000045</td>\n",
       "      <td>0.000000</td>\n",
       "      <td>0.179456</td>\n",
       "      <td>0.000000</td>\n",
       "      <td>1.000000</td>\n",
       "    </tr>\n",
       "  </tbody>\n",
       "</table>\n",
       "<p>22470 rows × 5 columns</p>\n",
       "</div>"
      ],
      "text/plain": [
       "         degree  betweenness  closeness  clustering     effsize\n",
       "id                                                             \n",
       "293    0.031555     0.015055   0.298901    0.064621  663.248237\n",
       "30     0.030175     0.039805   0.317413    0.042501  649.227139\n",
       "32     0.029329     0.039820   0.317475    0.042682  630.915023\n",
       "163    0.028929     0.010189   0.294336    0.066611  606.769231\n",
       "3076   0.022431     0.008207   0.290695    0.080462  463.527778\n",
       "...         ...          ...        ...         ...         ...\n",
       "22227  0.000045     0.000000   0.170319    0.000000    1.000000\n",
       "15962  0.000045     0.000000   0.174932    0.000000    1.000000\n",
       "20936  0.000045     0.000000   0.205039    0.000000    1.000000\n",
       "20612  0.000045     0.000000   0.173699    0.000000    1.000000\n",
       "21980  0.000045     0.000000   0.179456    0.000000    1.000000\n",
       "\n",
       "[22470 rows x 5 columns]"
      ]
     },
     "execution_count": 22,
     "metadata": {},
     "output_type": "execute_result"
    }
   ],
   "source": [
    "gt_data(grafo).sort_values(\"degree\", ascending = False)"
   ]
  },
  {
   "cell_type": "code",
   "execution_count": 8,
   "id": "e5a46c82",
   "metadata": {},
   "outputs": [],
   "source": [
    "#r = netpixi.render('facebook.net.gz', infinite = True, aspect = 1)"
   ]
  },
  {
   "cell_type": "code",
   "execution_count": 28,
   "id": "1f1e5e11",
   "metadata": {},
   "outputs": [],
   "source": [
    "#r.vertex_set_key('id')\n",
    "#r.vertex_scale('degree', 1, 10)"
   ]
  },
  {
   "cell_type": "markdown",
   "id": "56754753",
   "metadata": {},
   "source": [
    "**Ter um degree alto:** Pode significar algumas coisas. Se for direcionado ao site, significa que o site tem alto engajamento, simbolizando que muitas pessoas curtem o seu conteúdo. Porém, se sair do site e for direcionado a um outro site, simboliza que o site engaja em outros sites. Esse engajamento, no nosso caso, pode ser traduzido por interesses em comum."
   ]
  },
  {
   "cell_type": "markdown",
   "id": "976a58a9",
   "metadata": {},
   "source": [
    "**Ter um degree baixo:** Significa que ele é ausente na rede social ou que ele não traz engajamento sobre o seu conteúdo."
   ]
  },
  {
   "cell_type": "markdown",
   "id": "11bcc950",
   "metadata": {},
   "source": [
    "relacionar aos dados "
   ]
  },
  {
   "cell_type": "markdown",
   "id": "092324bb",
   "metadata": {},
   "source": [
    "---\n",
    "\n",
    "### Betweenness"
   ]
  },
  {
   "cell_type": "markdown",
   "id": "3267e9d8",
   "metadata": {},
   "source": [
    "A centralidade de betweeness representa a quantidade de geodésicas (caminhos com menor comprimento possível) que passam pelo vértice. Esta métrica permite analisar o potencial de comunicação de um ator dentro da rede."
   ]
  },
  {
   "cell_type": "code",
   "execution_count": 10,
   "id": "405fa6f5",
   "metadata": {},
   "outputs": [],
   "source": [
    "#calculando a centralidade betweenness\n",
    "betweenness, _ = centrality.betweenness(grafo)\n",
    "grafo.add_vp('betweenness', betweenness)"
   ]
  },
  {
   "cell_type": "code",
   "execution_count": 23,
   "id": "50ef51fc",
   "metadata": {},
   "outputs": [
    {
     "data": {
      "text/html": [
       "<div>\n",
       "<style scoped>\n",
       "    .dataframe tbody tr th:only-of-type {\n",
       "        vertical-align: middle;\n",
       "    }\n",
       "\n",
       "    .dataframe tbody tr th {\n",
       "        vertical-align: top;\n",
       "    }\n",
       "\n",
       "    .dataframe thead th {\n",
       "        text-align: right;\n",
       "    }\n",
       "</style>\n",
       "<table border=\"1\" class=\"dataframe\">\n",
       "  <thead>\n",
       "    <tr style=\"text-align: right;\">\n",
       "      <th></th>\n",
       "      <th>degree</th>\n",
       "      <th>betweenness</th>\n",
       "      <th>closeness</th>\n",
       "      <th>clustering</th>\n",
       "      <th>effsize</th>\n",
       "    </tr>\n",
       "    <tr>\n",
       "      <th>id</th>\n",
       "      <th></th>\n",
       "      <th></th>\n",
       "      <th></th>\n",
       "      <th></th>\n",
       "      <th></th>\n",
       "    </tr>\n",
       "  </thead>\n",
       "  <tbody>\n",
       "    <tr>\n",
       "      <th>304</th>\n",
       "      <td>0.016912</td>\n",
       "      <td>0.115790</td>\n",
       "      <td>0.324158</td>\n",
       "      <td>0.006582</td>\n",
       "      <td>377.505263</td>\n",
       "    </tr>\n",
       "    <tr>\n",
       "      <th>308</th>\n",
       "      <td>0.015176</td>\n",
       "      <td>0.089628</td>\n",
       "      <td>0.316438</td>\n",
       "      <td>0.015387</td>\n",
       "      <td>335.768328</td>\n",
       "    </tr>\n",
       "    <tr>\n",
       "      <th>32</th>\n",
       "      <td>0.029329</td>\n",
       "      <td>0.039820</td>\n",
       "      <td>0.317475</td>\n",
       "      <td>0.042682</td>\n",
       "      <td>630.915023</td>\n",
       "    </tr>\n",
       "    <tr>\n",
       "      <th>30</th>\n",
       "      <td>0.030175</td>\n",
       "      <td>0.039805</td>\n",
       "      <td>0.317413</td>\n",
       "      <td>0.042501</td>\n",
       "      <td>649.227139</td>\n",
       "    </tr>\n",
       "    <tr>\n",
       "      <th>1089</th>\n",
       "      <td>0.018559</td>\n",
       "      <td>0.025954</td>\n",
       "      <td>0.286927</td>\n",
       "      <td>0.055190</td>\n",
       "      <td>394.040767</td>\n",
       "    </tr>\n",
       "    <tr>\n",
       "      <th>...</th>\n",
       "      <td>...</td>\n",
       "      <td>...</td>\n",
       "      <td>...</td>\n",
       "      <td>...</td>\n",
       "      <td>...</td>\n",
       "    </tr>\n",
       "    <tr>\n",
       "      <th>13401</th>\n",
       "      <td>0.000045</td>\n",
       "      <td>0.000000</td>\n",
       "      <td>0.162985</td>\n",
       "      <td>0.000000</td>\n",
       "      <td>1.000000</td>\n",
       "    </tr>\n",
       "    <tr>\n",
       "      <th>21041</th>\n",
       "      <td>0.000134</td>\n",
       "      <td>0.000000</td>\n",
       "      <td>0.182780</td>\n",
       "      <td>1.000000</td>\n",
       "      <td>1.000000</td>\n",
       "    </tr>\n",
       "    <tr>\n",
       "      <th>21842</th>\n",
       "      <td>0.000045</td>\n",
       "      <td>0.000000</td>\n",
       "      <td>0.188016</td>\n",
       "      <td>0.000000</td>\n",
       "      <td>1.000000</td>\n",
       "    </tr>\n",
       "    <tr>\n",
       "      <th>18109</th>\n",
       "      <td>0.000045</td>\n",
       "      <td>0.000000</td>\n",
       "      <td>0.187201</td>\n",
       "      <td>0.000000</td>\n",
       "      <td>1.000000</td>\n",
       "    </tr>\n",
       "    <tr>\n",
       "      <th>21980</th>\n",
       "      <td>0.000045</td>\n",
       "      <td>0.000000</td>\n",
       "      <td>0.179456</td>\n",
       "      <td>0.000000</td>\n",
       "      <td>1.000000</td>\n",
       "    </tr>\n",
       "  </tbody>\n",
       "</table>\n",
       "<p>22470 rows × 5 columns</p>\n",
       "</div>"
      ],
      "text/plain": [
       "         degree  betweenness  closeness  clustering     effsize\n",
       "id                                                             \n",
       "304    0.016912     0.115790   0.324158    0.006582  377.505263\n",
       "308    0.015176     0.089628   0.316438    0.015387  335.768328\n",
       "32     0.029329     0.039820   0.317475    0.042682  630.915023\n",
       "30     0.030175     0.039805   0.317413    0.042501  649.227139\n",
       "1089   0.018559     0.025954   0.286927    0.055190  394.040767\n",
       "...         ...          ...        ...         ...         ...\n",
       "13401  0.000045     0.000000   0.162985    0.000000    1.000000\n",
       "21041  0.000134     0.000000   0.182780    1.000000    1.000000\n",
       "21842  0.000045     0.000000   0.188016    0.000000    1.000000\n",
       "18109  0.000045     0.000000   0.187201    0.000000    1.000000\n",
       "21980  0.000045     0.000000   0.179456    0.000000    1.000000\n",
       "\n",
       "[22470 rows x 5 columns]"
      ]
     },
     "execution_count": 23,
     "metadata": {},
     "output_type": "execute_result"
    }
   ],
   "source": [
    "gt_data(grafo).sort_values(\"betweenness\", ascending = False)"
   ]
  },
  {
   "cell_type": "code",
   "execution_count": null,
   "id": "1dd12ca7",
   "metadata": {},
   "outputs": [],
   "source": [
    "#r = netpixi.render('facebook.net.gz', infinite = True, aspect = 1)"
   ]
  },
  {
   "cell_type": "code",
   "execution_count": null,
   "id": "fa7abc45",
   "metadata": {},
   "outputs": [],
   "source": [
    "#r.vertex_set_key('id')\n",
    "#r.vertex_scale('betweenness', 1, 20)"
   ]
  },
  {
   "cell_type": "markdown",
   "id": "b10fc16d",
   "metadata": {},
   "source": [
    "**Ter betweenness alto:** Significa que há maior probabilidade de o site ter o conteúdo similar aos que são interligados por outro site intermediador."
   ]
  },
  {
   "cell_type": "markdown",
   "id": "70fa5b95",
   "metadata": {},
   "source": [
    "**Ter betweenness baixo:** Significa que há menor probabilidade desses conteúdos serem parecidos."
   ]
  },
  {
   "cell_type": "markdown",
   "id": "477d135d",
   "metadata": {},
   "source": [
    "relacionar aos dados "
   ]
  },
  {
   "cell_type": "markdown",
   "id": "ebdc6dcf",
   "metadata": {},
   "source": [
    "---\n",
    "\n",
    "### Closeness"
   ]
  },
  {
   "cell_type": "markdown",
   "id": "1d8b7c21",
   "metadata": {},
   "source": [
    "A centralidade de closeness representa a proximidade (inverso da distância) média do vértice para os outros vértices da rede. Esta métrica indica a capacidade de alcance de um nó dentro da rede."
   ]
  },
  {
   "cell_type": "code",
   "execution_count": 12,
   "id": "90f933be",
   "metadata": {},
   "outputs": [],
   "source": [
    "#calculando a centralidade closeness\n",
    "closeness = centrality.closeness(grafo)\n",
    "grafo.add_vp('closeness', closeness)"
   ]
  },
  {
   "cell_type": "code",
   "execution_count": 24,
   "id": "7071e628",
   "metadata": {},
   "outputs": [
    {
     "data": {
      "text/html": [
       "<div>\n",
       "<style scoped>\n",
       "    .dataframe tbody tr th:only-of-type {\n",
       "        vertical-align: middle;\n",
       "    }\n",
       "\n",
       "    .dataframe tbody tr th {\n",
       "        vertical-align: top;\n",
       "    }\n",
       "\n",
       "    .dataframe thead th {\n",
       "        text-align: right;\n",
       "    }\n",
       "</style>\n",
       "<table border=\"1\" class=\"dataframe\">\n",
       "  <thead>\n",
       "    <tr style=\"text-align: right;\">\n",
       "      <th></th>\n",
       "      <th>degree</th>\n",
       "      <th>betweenness</th>\n",
       "      <th>closeness</th>\n",
       "      <th>clustering</th>\n",
       "      <th>effsize</th>\n",
       "    </tr>\n",
       "    <tr>\n",
       "      <th>id</th>\n",
       "      <th></th>\n",
       "      <th></th>\n",
       "      <th></th>\n",
       "      <th></th>\n",
       "      <th></th>\n",
       "    </tr>\n",
       "  </thead>\n",
       "  <tbody>\n",
       "    <tr>\n",
       "      <th>304</th>\n",
       "      <td>0.016912</td>\n",
       "      <td>0.115790</td>\n",
       "      <td>0.324158</td>\n",
       "      <td>0.006582</td>\n",
       "      <td>377.505263</td>\n",
       "    </tr>\n",
       "    <tr>\n",
       "      <th>32</th>\n",
       "      <td>0.029329</td>\n",
       "      <td>0.039820</td>\n",
       "      <td>0.317475</td>\n",
       "      <td>0.042682</td>\n",
       "      <td>630.915023</td>\n",
       "    </tr>\n",
       "    <tr>\n",
       "      <th>30</th>\n",
       "      <td>0.030175</td>\n",
       "      <td>0.039805</td>\n",
       "      <td>0.317413</td>\n",
       "      <td>0.042501</td>\n",
       "      <td>649.227139</td>\n",
       "    </tr>\n",
       "    <tr>\n",
       "      <th>308</th>\n",
       "      <td>0.015176</td>\n",
       "      <td>0.089628</td>\n",
       "      <td>0.316438</td>\n",
       "      <td>0.015387</td>\n",
       "      <td>335.768328</td>\n",
       "    </tr>\n",
       "    <tr>\n",
       "      <th>5</th>\n",
       "      <td>0.014687</td>\n",
       "      <td>0.017641</td>\n",
       "      <td>0.303557</td>\n",
       "      <td>0.081791</td>\n",
       "      <td>303.090909</td>\n",
       "    </tr>\n",
       "    <tr>\n",
       "      <th>...</th>\n",
       "      <td>...</td>\n",
       "      <td>...</td>\n",
       "      <td>...</td>\n",
       "      <td>...</td>\n",
       "      <td>...</td>\n",
       "    </tr>\n",
       "    <tr>\n",
       "      <th>22311</th>\n",
       "      <td>0.000045</td>\n",
       "      <td>0.000000</td>\n",
       "      <td>0.102501</td>\n",
       "      <td>0.000000</td>\n",
       "      <td>1.000000</td>\n",
       "    </tr>\n",
       "    <tr>\n",
       "      <th>22402</th>\n",
       "      <td>0.000045</td>\n",
       "      <td>0.000000</td>\n",
       "      <td>0.102501</td>\n",
       "      <td>0.000000</td>\n",
       "      <td>1.000000</td>\n",
       "    </tr>\n",
       "    <tr>\n",
       "      <th>21568</th>\n",
       "      <td>0.000045</td>\n",
       "      <td>0.000000</td>\n",
       "      <td>0.101928</td>\n",
       "      <td>0.000000</td>\n",
       "      <td>1.000000</td>\n",
       "    </tr>\n",
       "    <tr>\n",
       "      <th>7641</th>\n",
       "      <td>0.000045</td>\n",
       "      <td>0.000000</td>\n",
       "      <td>0.099680</td>\n",
       "      <td>0.000000</td>\n",
       "      <td>1.000000</td>\n",
       "    </tr>\n",
       "    <tr>\n",
       "      <th>21471</th>\n",
       "      <td>0.000045</td>\n",
       "      <td>0.000000</td>\n",
       "      <td>0.097787</td>\n",
       "      <td>0.000000</td>\n",
       "      <td>1.000000</td>\n",
       "    </tr>\n",
       "  </tbody>\n",
       "</table>\n",
       "<p>22470 rows × 5 columns</p>\n",
       "</div>"
      ],
      "text/plain": [
       "         degree  betweenness  closeness  clustering     effsize\n",
       "id                                                             \n",
       "304    0.016912     0.115790   0.324158    0.006582  377.505263\n",
       "32     0.029329     0.039820   0.317475    0.042682  630.915023\n",
       "30     0.030175     0.039805   0.317413    0.042501  649.227139\n",
       "308    0.015176     0.089628   0.316438    0.015387  335.768328\n",
       "5      0.014687     0.017641   0.303557    0.081791  303.090909\n",
       "...         ...          ...        ...         ...         ...\n",
       "22311  0.000045     0.000000   0.102501    0.000000    1.000000\n",
       "22402  0.000045     0.000000   0.102501    0.000000    1.000000\n",
       "21568  0.000045     0.000000   0.101928    0.000000    1.000000\n",
       "7641   0.000045     0.000000   0.099680    0.000000    1.000000\n",
       "21471  0.000045     0.000000   0.097787    0.000000    1.000000\n",
       "\n",
       "[22470 rows x 5 columns]"
      ]
     },
     "execution_count": 24,
     "metadata": {},
     "output_type": "execute_result"
    }
   ],
   "source": [
    "gt_data(grafo).sort_values(\"closeness\", ascending = False)"
   ]
  },
  {
   "cell_type": "code",
   "execution_count": null,
   "id": "f9fc7dd2",
   "metadata": {},
   "outputs": [],
   "source": [
    "#r = netpixi.render('facebook.net.gz', infinite = True, aspect = 1)"
   ]
  },
  {
   "cell_type": "code",
   "execution_count": null,
   "id": "7b75179a",
   "metadata": {},
   "outputs": [],
   "source": [
    "#r.vertex_set_key('id')\n",
    "#r.vertex_scale('closeness', 0.5, 3)"
   ]
  },
  {
   "cell_type": "markdown",
   "id": "a73ed010",
   "metadata": {},
   "source": [
    "**Ter closeness alto:** Quando temos dois sites próximos, podemos concluir que os seus conteúdos são parecidos, pois provavelmente fazem parte do mesmo grupo de assuntos.\n"
   ]
  },
  {
   "cell_type": "markdown",
   "id": "23a0958e",
   "metadata": {},
   "source": [
    "**Ter closeness baixo:** Quando temos dois sites distantes, supomos que os seus conteúdos tratam de assuntos bem diferentes, mas que devem ter alguma conexão, dado o engajamento."
   ]
  },
  {
   "cell_type": "markdown",
   "id": "9e1055a6",
   "metadata": {},
   "source": [
    "relacionar aos dados "
   ]
  },
  {
   "cell_type": "markdown",
   "id": "e8fe77f9",
   "metadata": {},
   "source": [
    "---\n",
    "\n",
    "### Clustering coefficient"
   ]
  },
  {
   "cell_type": "markdown",
   "id": "c11479ed",
   "metadata": {},
   "source": [
    "*explicacao*"
   ]
  },
  {
   "cell_type": "code",
   "execution_count": 14,
   "id": "9bc6794e",
   "metadata": {},
   "outputs": [],
   "source": [
    "from graph_tool import clustering\n",
    "\n",
    "clustering_coef = clustering.local_clustering(grafo)\n",
    "grafo.add_vp('clustering', clustering_coef)"
   ]
  },
  {
   "cell_type": "code",
   "execution_count": 25,
   "id": "f481f4ce",
   "metadata": {},
   "outputs": [
    {
     "data": {
      "text/html": [
       "<div>\n",
       "<style scoped>\n",
       "    .dataframe tbody tr th:only-of-type {\n",
       "        vertical-align: middle;\n",
       "    }\n",
       "\n",
       "    .dataframe tbody tr th {\n",
       "        vertical-align: top;\n",
       "    }\n",
       "\n",
       "    .dataframe thead th {\n",
       "        text-align: right;\n",
       "    }\n",
       "</style>\n",
       "<table border=\"1\" class=\"dataframe\">\n",
       "  <thead>\n",
       "    <tr style=\"text-align: right;\">\n",
       "      <th></th>\n",
       "      <th>degree</th>\n",
       "      <th>betweenness</th>\n",
       "      <th>closeness</th>\n",
       "      <th>clustering</th>\n",
       "      <th>effsize</th>\n",
       "    </tr>\n",
       "    <tr>\n",
       "      <th>id</th>\n",
       "      <th></th>\n",
       "      <th></th>\n",
       "      <th></th>\n",
       "      <th></th>\n",
       "      <th></th>\n",
       "    </tr>\n",
       "  </thead>\n",
       "  <tbody>\n",
       "    <tr>\n",
       "      <th>13037</th>\n",
       "      <td>0.000223</td>\n",
       "      <td>0.000000</td>\n",
       "      <td>0.171387</td>\n",
       "      <td>1.0</td>\n",
       "      <td>1.0</td>\n",
       "    </tr>\n",
       "    <tr>\n",
       "      <th>7088</th>\n",
       "      <td>0.000089</td>\n",
       "      <td>0.000000</td>\n",
       "      <td>0.168708</td>\n",
       "      <td>1.0</td>\n",
       "      <td>1.0</td>\n",
       "    </tr>\n",
       "    <tr>\n",
       "      <th>12175</th>\n",
       "      <td>0.000089</td>\n",
       "      <td>0.000000</td>\n",
       "      <td>0.205851</td>\n",
       "      <td>1.0</td>\n",
       "      <td>1.0</td>\n",
       "    </tr>\n",
       "    <tr>\n",
       "      <th>7790</th>\n",
       "      <td>0.000134</td>\n",
       "      <td>0.000000</td>\n",
       "      <td>0.163341</td>\n",
       "      <td>1.0</td>\n",
       "      <td>1.0</td>\n",
       "    </tr>\n",
       "    <tr>\n",
       "      <th>8433</th>\n",
       "      <td>0.000089</td>\n",
       "      <td>0.000000</td>\n",
       "      <td>0.173424</td>\n",
       "      <td>1.0</td>\n",
       "      <td>1.0</td>\n",
       "    </tr>\n",
       "    <tr>\n",
       "      <th>...</th>\n",
       "      <td>...</td>\n",
       "      <td>...</td>\n",
       "      <td>...</td>\n",
       "      <td>...</td>\n",
       "      <td>...</td>\n",
       "    </tr>\n",
       "    <tr>\n",
       "      <th>14265</th>\n",
       "      <td>0.000089</td>\n",
       "      <td>0.000003</td>\n",
       "      <td>0.200948</td>\n",
       "      <td>0.0</td>\n",
       "      <td>2.0</td>\n",
       "    </tr>\n",
       "    <tr>\n",
       "      <th>17168</th>\n",
       "      <td>0.000045</td>\n",
       "      <td>0.000000</td>\n",
       "      <td>0.149771</td>\n",
       "      <td>0.0</td>\n",
       "      <td>1.0</td>\n",
       "    </tr>\n",
       "    <tr>\n",
       "      <th>11994</th>\n",
       "      <td>0.000089</td>\n",
       "      <td>0.000445</td>\n",
       "      <td>0.180575</td>\n",
       "      <td>0.0</td>\n",
       "      <td>2.0</td>\n",
       "    </tr>\n",
       "    <tr>\n",
       "      <th>12585</th>\n",
       "      <td>0.000045</td>\n",
       "      <td>0.000000</td>\n",
       "      <td>0.163676</td>\n",
       "      <td>0.0</td>\n",
       "      <td>1.0</td>\n",
       "    </tr>\n",
       "    <tr>\n",
       "      <th>21980</th>\n",
       "      <td>0.000045</td>\n",
       "      <td>0.000000</td>\n",
       "      <td>0.179456</td>\n",
       "      <td>0.0</td>\n",
       "      <td>1.0</td>\n",
       "    </tr>\n",
       "  </tbody>\n",
       "</table>\n",
       "<p>22470 rows × 5 columns</p>\n",
       "</div>"
      ],
      "text/plain": [
       "         degree  betweenness  closeness  clustering  effsize\n",
       "id                                                          \n",
       "13037  0.000223     0.000000   0.171387         1.0      1.0\n",
       "7088   0.000089     0.000000   0.168708         1.0      1.0\n",
       "12175  0.000089     0.000000   0.205851         1.0      1.0\n",
       "7790   0.000134     0.000000   0.163341         1.0      1.0\n",
       "8433   0.000089     0.000000   0.173424         1.0      1.0\n",
       "...         ...          ...        ...         ...      ...\n",
       "14265  0.000089     0.000003   0.200948         0.0      2.0\n",
       "17168  0.000045     0.000000   0.149771         0.0      1.0\n",
       "11994  0.000089     0.000445   0.180575         0.0      2.0\n",
       "12585  0.000045     0.000000   0.163676         0.0      1.0\n",
       "21980  0.000045     0.000000   0.179456         0.0      1.0\n",
       "\n",
       "[22470 rows x 5 columns]"
      ]
     },
     "execution_count": 25,
     "metadata": {},
     "output_type": "execute_result"
    }
   ],
   "source": [
    "gt_data(grafo).sort_values(\"clustering\", ascending = False)"
   ]
  },
  {
   "cell_type": "code",
   "execution_count": null,
   "id": "a63a60cb",
   "metadata": {},
   "outputs": [],
   "source": [
    "#r = netpixi.render('facebook.net.gz', infinite = True, aspect = 1)"
   ]
  },
  {
   "cell_type": "code",
   "execution_count": null,
   "id": "1873f858",
   "metadata": {},
   "outputs": [],
   "source": [
    "#r.vertex_scale('clustering', 10, 30)"
   ]
  },
  {
   "cell_type": "markdown",
   "id": "501829b1",
   "metadata": {},
   "source": [
    "**Ter Clustering coefficient alto:** Nesse caso, acreditamos que confirma a nossa hipótese inicial de que, quando há uma conexão (nesse caso, likes) entre sites, o seu conteúdo é similar ao do site curtido, pois sites parecidos tem mais probabilidade de curtirem um ao outro."
   ]
  },
  {
   "cell_type": "markdown",
   "id": "b8196727",
   "metadata": {},
   "source": [
    "**Ter Clustering coefficient baixo:** Nos faz questionar a nossa hipótese, visto que talvez tenha sido um like sem querer ou um site que seja muito generalista e aborde vários assuntos"
   ]
  },
  {
   "cell_type": "markdown",
   "id": "e2e8f375",
   "metadata": {},
   "source": [
    "relacionar aos dados "
   ]
  },
  {
   "cell_type": "markdown",
   "id": "9bfaffb9",
   "metadata": {},
   "source": [
    "---\n",
    "\n",
    "### Lacunas estruturais"
   ]
  },
  {
   "cell_type": "markdown",
   "id": "f6a2c653",
   "metadata": {},
   "source": [
    "Na teoria de *lacunas estruturais,* a existência de uma aresta $(u, v)$ pode ser interpretada como um *investimento* que $u$ faz para manter uma relação com $v$, esperando que essa relação lhe dê acesso a informações e outros recursos."
   ]
  },
  {
   "cell_type": "code",
   "execution_count": 18,
   "id": "42f71bd0",
   "metadata": {},
   "outputs": [],
   "source": [
    "lacunas = gt_effective_size(grafo)\n",
    "grafo.add_vp('effsize', lacunas)"
   ]
  },
  {
   "cell_type": "code",
   "execution_count": 27,
   "id": "754da161",
   "metadata": {},
   "outputs": [
    {
     "data": {
      "text/html": [
       "<div>\n",
       "<style scoped>\n",
       "    .dataframe tbody tr th:only-of-type {\n",
       "        vertical-align: middle;\n",
       "    }\n",
       "\n",
       "    .dataframe tbody tr th {\n",
       "        vertical-align: top;\n",
       "    }\n",
       "\n",
       "    .dataframe thead th {\n",
       "        text-align: right;\n",
       "    }\n",
       "</style>\n",
       "<table border=\"1\" class=\"dataframe\">\n",
       "  <thead>\n",
       "    <tr style=\"text-align: right;\">\n",
       "      <th></th>\n",
       "      <th>degree</th>\n",
       "      <th>betweenness</th>\n",
       "      <th>closeness</th>\n",
       "      <th>clustering</th>\n",
       "      <th>effsize</th>\n",
       "    </tr>\n",
       "    <tr>\n",
       "      <th>id</th>\n",
       "      <th></th>\n",
       "      <th></th>\n",
       "      <th></th>\n",
       "      <th></th>\n",
       "      <th></th>\n",
       "    </tr>\n",
       "  </thead>\n",
       "  <tbody>\n",
       "    <tr>\n",
       "      <th>293</th>\n",
       "      <td>0.031555</td>\n",
       "      <td>0.015055</td>\n",
       "      <td>0.298901</td>\n",
       "      <td>0.064621</td>\n",
       "      <td>663.248237</td>\n",
       "    </tr>\n",
       "    <tr>\n",
       "      <th>30</th>\n",
       "      <td>0.030175</td>\n",
       "      <td>0.039805</td>\n",
       "      <td>0.317413</td>\n",
       "      <td>0.042501</td>\n",
       "      <td>649.227139</td>\n",
       "    </tr>\n",
       "    <tr>\n",
       "      <th>32</th>\n",
       "      <td>0.029329</td>\n",
       "      <td>0.039820</td>\n",
       "      <td>0.317475</td>\n",
       "      <td>0.042682</td>\n",
       "      <td>630.915023</td>\n",
       "    </tr>\n",
       "    <tr>\n",
       "      <th>163</th>\n",
       "      <td>0.028929</td>\n",
       "      <td>0.010189</td>\n",
       "      <td>0.294336</td>\n",
       "      <td>0.066611</td>\n",
       "      <td>606.769231</td>\n",
       "    </tr>\n",
       "    <tr>\n",
       "      <th>3076</th>\n",
       "      <td>0.022431</td>\n",
       "      <td>0.008207</td>\n",
       "      <td>0.290695</td>\n",
       "      <td>0.080462</td>\n",
       "      <td>463.527778</td>\n",
       "    </tr>\n",
       "    <tr>\n",
       "      <th>...</th>\n",
       "      <td>...</td>\n",
       "      <td>...</td>\n",
       "      <td>...</td>\n",
       "      <td>...</td>\n",
       "      <td>...</td>\n",
       "    </tr>\n",
       "    <tr>\n",
       "      <th>13401</th>\n",
       "      <td>0.000045</td>\n",
       "      <td>0.000000</td>\n",
       "      <td>0.162985</td>\n",
       "      <td>0.000000</td>\n",
       "      <td>1.000000</td>\n",
       "    </tr>\n",
       "    <tr>\n",
       "      <th>21041</th>\n",
       "      <td>0.000134</td>\n",
       "      <td>0.000000</td>\n",
       "      <td>0.182780</td>\n",
       "      <td>1.000000</td>\n",
       "      <td>1.000000</td>\n",
       "    </tr>\n",
       "    <tr>\n",
       "      <th>21842</th>\n",
       "      <td>0.000045</td>\n",
       "      <td>0.000000</td>\n",
       "      <td>0.188016</td>\n",
       "      <td>0.000000</td>\n",
       "      <td>1.000000</td>\n",
       "    </tr>\n",
       "    <tr>\n",
       "      <th>18109</th>\n",
       "      <td>0.000045</td>\n",
       "      <td>0.000000</td>\n",
       "      <td>0.187201</td>\n",
       "      <td>0.000000</td>\n",
       "      <td>1.000000</td>\n",
       "    </tr>\n",
       "    <tr>\n",
       "      <th>21980</th>\n",
       "      <td>0.000045</td>\n",
       "      <td>0.000000</td>\n",
       "      <td>0.179456</td>\n",
       "      <td>0.000000</td>\n",
       "      <td>1.000000</td>\n",
       "    </tr>\n",
       "  </tbody>\n",
       "</table>\n",
       "<p>22470 rows × 5 columns</p>\n",
       "</div>"
      ],
      "text/plain": [
       "         degree  betweenness  closeness  clustering     effsize\n",
       "id                                                             \n",
       "293    0.031555     0.015055   0.298901    0.064621  663.248237\n",
       "30     0.030175     0.039805   0.317413    0.042501  649.227139\n",
       "32     0.029329     0.039820   0.317475    0.042682  630.915023\n",
       "163    0.028929     0.010189   0.294336    0.066611  606.769231\n",
       "3076   0.022431     0.008207   0.290695    0.080462  463.527778\n",
       "...         ...          ...        ...         ...         ...\n",
       "13401  0.000045     0.000000   0.162985    0.000000    1.000000\n",
       "21041  0.000134     0.000000   0.182780    1.000000    1.000000\n",
       "21842  0.000045     0.000000   0.188016    0.000000    1.000000\n",
       "18109  0.000045     0.000000   0.187201    0.000000    1.000000\n",
       "21980  0.000045     0.000000   0.179456    0.000000    1.000000\n",
       "\n",
       "[22470 rows x 5 columns]"
      ]
     },
     "execution_count": 27,
     "metadata": {},
     "output_type": "execute_result"
    }
   ],
   "source": [
    "gt_data(grafo).sort_values(\"effsize\", ascending = False)"
   ]
  },
  {
   "cell_type": "code",
   "execution_count": null,
   "id": "6200f0bf",
   "metadata": {},
   "outputs": [],
   "source": [
    "#r = netpixi.render('facebook.net.gz', infinite = True, aspect = 1)"
   ]
  },
  {
   "cell_type": "code",
   "execution_count": null,
   "id": "9e691546",
   "metadata": {},
   "outputs": [],
   "source": [
    "#r.vertex_scale('effsize', 10, 30)"
   ]
  }
 ],
 "metadata": {
  "kernelspec": {
   "display_name": "Python 3 (ipykernel)",
   "language": "python",
   "name": "python3"
  },
  "language_info": {
   "codemirror_mode": {
    "name": "ipython",
    "version": 3
   },
   "file_extension": ".py",
   "mimetype": "text/x-python",
   "name": "python",
   "nbconvert_exporter": "python",
   "pygments_lexer": "ipython3",
   "version": "3.9.12"
  }
 },
 "nbformat": 4,
 "nbformat_minor": 5
}
