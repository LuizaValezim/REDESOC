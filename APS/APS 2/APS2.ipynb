{
 "cells": [
  {
   "cell_type": "markdown",
   "id": "990b9e42",
   "metadata": {},
   "source": [
    "# APS 2"
   ]
  },
  {
   "cell_type": "markdown",
   "id": "971a2e8c",
   "metadata": {},
   "source": [
    "Antonio Fonseca, Ellen Shen e Luiza Valezim"
   ]
  },
  {
   "cell_type": "markdown",
   "id": "2c45c747",
   "metadata": {},
   "source": [
    "Esta APS consiste em analisar o cálculo de métricas locais de vértices e a interpretação sobre essas redes e essas métricas. O dataset escolhido foi: https://snap.stanford.edu/data/facebook-large-page-page-network.html"
   ]
  },
  {
   "cell_type": "code",
   "execution_count": 1,
   "id": "c61b05af",
   "metadata": {},
   "outputs": [
    {
     "ename": "ModuleNotFoundError",
     "evalue": "No module named 'netpixi'",
     "output_type": "error",
     "traceback": [
      "\u001b[1;31m---------------------------------------------------------------------------\u001b[0m",
      "\u001b[1;31mModuleNotFoundError\u001b[0m                       Traceback (most recent call last)",
      "Input \u001b[1;32mIn [1]\u001b[0m, in \u001b[0;36m<cell line: 1>\u001b[1;34m()\u001b[0m\n\u001b[1;32m----> 1\u001b[0m \u001b[38;5;28;01mimport\u001b[39;00m \u001b[38;5;21;01mnetpixi\u001b[39;00m\n\u001b[0;32m      3\u001b[0m \u001b[38;5;28;01mfrom\u001b[39;00m \u001b[38;5;21;01mnetpixi\u001b[39;00m\u001b[38;5;21;01m.\u001b[39;00m\u001b[38;5;21;01mintegration\u001b[39;00m\u001b[38;5;21;01m.\u001b[39;00m\u001b[38;5;21;01mgt\u001b[39;00m \u001b[38;5;28;01mimport\u001b[39;00m \u001b[38;5;241m*\u001b[39m\n\u001b[0;32m      4\u001b[0m \u001b[38;5;28;01mfrom\u001b[39;00m \u001b[38;5;21;01mregression\u001b[39;00m\u001b[38;5;21;01m.\u001b[39;00m\u001b[38;5;21;01mintegration\u001b[39;00m\u001b[38;5;21;01m.\u001b[39;00m\u001b[38;5;21;01mgt\u001b[39;00m \u001b[38;5;28;01mimport\u001b[39;00m \u001b[38;5;241m*\u001b[39m\n",
      "\u001b[1;31mModuleNotFoundError\u001b[0m: No module named 'netpixi'"
     ]
    }
   ],
   "source": [
    "import netpixi\n",
    "\n",
    "from netpixi.integration.gt import *\n",
    "from regression.integration.gt import *\n",
    "from graph_tool import centrality"
   ]
  },
  {
   "cell_type": "code",
   "execution_count": null,
   "id": "8d0413ae",
   "metadata": {},
   "outputs": [],
   "source": []
  },
  {
   "cell_type": "code",
   "execution_count": null,
   "id": "26488717",
   "metadata": {},
   "outputs": [],
   "source": []
  },
  {
   "cell_type": "markdown",
   "id": "4e0c6810",
   "metadata": {},
   "source": [
    "## Métricas de Centralidade"
   ]
  },
  {
   "cell_type": "markdown",
   "id": "aa9d2bbc",
   "metadata": {},
   "source": [
    "Essas métricas permitem a avaliação da importância de um nó dentro da rede."
   ]
  },
  {
   "cell_type": "code",
   "execution_count": null,
   "id": "e3db8937",
   "metadata": {},
   "outputs": [],
   "source": [
    "#utilizando o grafo da APS1\n",
    "grafo = gt_load('.gz')\n",
    "\n",
    "grafo = gt_clean(grafo)\n",
    "m_completo = gt_draw.sfdp_layout(grafo)\n",
    "gt_move(grafo, m_completo)\n",
    "gt_save(grafo, '.net.gz')\n",
    "r = netpixi.render('.net.gz', infinite=True);"
   ]
  },
  {
   "cell_type": "code",
   "execution_count": null,
   "id": "771c630c",
   "metadata": {},
   "outputs": [],
   "source": [
    "# mudar a cor e o tamanho dos vértices\n",
    "r.vertex_default(color=0xFF0000, size=0.7)\n",
    "\n",
    "# mudar a cor, a espessura e a curvatura das arestas\n",
    "r.edge_default(color=0x20B2AA, width=0.08, curve1=1, curve2=1)\n",
    "\n",
    "r.vertex_set_key('nome')"
   ]
  },
  {
   "cell_type": "markdown",
   "id": "da483090",
   "metadata": {},
   "source": [
    "### Degree"
   ]
  },
  {
   "cell_type": "markdown",
   "id": "d03414a6",
   "metadata": {},
   "source": [
    "A centralidade de degree representa o número de ligações que um nó possui, dividido pelo número de ligações possíveis, ou seja, a quantidade de arestas do vértices.  Esta métrica é usada para identificar os nós que têm o maior número de ligações."
   ]
  },
  {
   "cell_type": "code",
   "execution_count": null,
   "id": "0452e5ba",
   "metadata": {},
   "outputs": [],
   "source": [
    "#calculando a centralidade degree\n",
    "degree = gt_total_degree(grafo)"
   ]
  },
  {
   "cell_type": "code",
   "execution_count": null,
   "id": "d1b7aa30",
   "metadata": {},
   "outputs": [],
   "source": [
    "r.vertex_scale('degree', 1, 10)"
   ]
  },
  {
   "cell_type": "markdown",
   "id": "56754753",
   "metadata": {},
   "source": [
    "*analise e conclusao*"
   ]
  },
  {
   "cell_type": "markdown",
   "id": "092324bb",
   "metadata": {},
   "source": [
    "## Betweenness"
   ]
  },
  {
   "cell_type": "markdown",
   "id": "3267e9d8",
   "metadata": {},
   "source": [
    "A centralidade de betweeness representa a quantidade de geodésicas (caminhos com menor comprimento possível) que passam pelo vértice. Esta métrica permite analisar o potencial de comunicação de um ator dentro da rede."
   ]
  },
  {
   "cell_type": "code",
   "execution_count": null,
   "id": "405fa6f5",
   "metadata": {},
   "outputs": [],
   "source": [
    "#calculando a centralidade betweenness\n",
    "betweenness, _ = centrality.betweenness(grafo)"
   ]
  },
  {
   "cell_type": "code",
   "execution_count": null,
   "id": "fa7abc45",
   "metadata": {},
   "outputs": [],
   "source": [
    "r.vertex_scale('betweenness', 1, 20)"
   ]
  },
  {
   "cell_type": "markdown",
   "id": "b10fc16d",
   "metadata": {},
   "source": [
    "*analise e conclusao*"
   ]
  },
  {
   "cell_type": "markdown",
   "id": "ebdc6dcf",
   "metadata": {},
   "source": [
    "## Closeness"
   ]
  },
  {
   "cell_type": "markdown",
   "id": "1d8b7c21",
   "metadata": {},
   "source": [
    "A centralidade de closeness representa a proximidade (inverso da distância) média do vértice para os outros vértices da rede. Esta métrica indica a capacidade de alcance de um nó dentro da rede."
   ]
  },
  {
   "cell_type": "code",
   "execution_count": null,
   "id": "90f933be",
   "metadata": {},
   "outputs": [],
   "source": [
    "#calculando a centralidade closeness\n",
    "cc_completo = centrality.closeness(grafo)"
   ]
  },
  {
   "cell_type": "code",
   "execution_count": null,
   "id": "7b75179a",
   "metadata": {},
   "outputs": [],
   "source": [
    "r.vertex_scale('closeness', 0.5, 3)"
   ]
  },
  {
   "cell_type": "markdown",
   "id": "a73ed010",
   "metadata": {},
   "source": [
    "*analise e conclusao*"
   ]
  },
  {
   "cell_type": "code",
   "execution_count": null,
   "id": "dc3e3e70",
   "metadata": {},
   "outputs": [],
   "source": []
  },
  {
   "cell_type": "code",
   "execution_count": null,
   "id": "d82ec921",
   "metadata": {},
   "outputs": [],
   "source": []
  },
  {
   "cell_type": "code",
   "execution_count": null,
   "id": "9bc6794e",
   "metadata": {},
   "outputs": [],
   "source": []
  },
  {
   "cell_type": "code",
   "execution_count": null,
   "id": "f481f4ce",
   "metadata": {},
   "outputs": [],
   "source": []
  },
  {
   "cell_type": "code",
   "execution_count": null,
   "id": "a63a60cb",
   "metadata": {},
   "outputs": [],
   "source": []
  }
 ],
 "metadata": {
  "kernelspec": {
   "display_name": "Python 3 (ipykernel)",
   "language": "python",
   "name": "python3"
  },
  "language_info": {
   "codemirror_mode": {
    "name": "ipython",
    "version": 3
   },
   "file_extension": ".py",
   "mimetype": "text/x-python",
   "name": "python",
   "nbconvert_exporter": "python",
   "pygments_lexer": "ipython3",
   "version": "3.9.12"
  }
 },
 "nbformat": 4,
 "nbformat_minor": 5
}
