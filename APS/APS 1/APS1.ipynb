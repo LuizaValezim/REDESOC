{
 "cells": [
  {
   "cell_type": "markdown",
   "id": "46718662",
   "metadata": {},
   "source": [
    "# APS 1 "
   ]
  },
  {
   "cell_type": "markdown",
   "id": "61677981",
   "metadata": {},
   "source": [
    "Antonio Fonseca, Ellen Shen e Luiza Valezim"
   ]
  },
  {
   "cell_type": "code",
   "execution_count": 2,
   "id": "7e727310",
   "metadata": {
    "vscode": {
     "languageId": "python"
    }
   },
   "outputs": [
    {
     "ename": "ModuleNotFoundError",
     "evalue": "No module named 'netpixi'",
     "output_type": "error",
     "traceback": [
      "\u001b[1;31m---------------------------------------------------------------------------\u001b[0m",
      "\u001b[1;31mModuleNotFoundError\u001b[0m                       Traceback (most recent call last)",
      "Input \u001b[1;32mIn [2]\u001b[0m, in \u001b[0;36m<cell line: 2>\u001b[1;34m()\u001b[0m\n\u001b[0;32m      1\u001b[0m \u001b[38;5;28;01mimport\u001b[39;00m \u001b[38;5;21;01mseaborn\u001b[39;00m\n\u001b[1;32m----> 2\u001b[0m \u001b[38;5;28;01mimport\u001b[39;00m \u001b[38;5;21;01mnetpixi\u001b[39;00m\n\u001b[0;32m      3\u001b[0m \u001b[38;5;28;01mfrom\u001b[39;00m \u001b[38;5;21;01mnetpixi\u001b[39;00m\u001b[38;5;21;01m.\u001b[39;00m\u001b[38;5;21;01mintegration\u001b[39;00m\u001b[38;5;21;01m.\u001b[39;00m\u001b[38;5;21;01mgt\u001b[39;00m \u001b[38;5;28;01mimport\u001b[39;00m \u001b[38;5;241m*\u001b[39m\n\u001b[0;32m      4\u001b[0m \u001b[38;5;28;01mfrom\u001b[39;00m \u001b[38;5;21;01mregression\u001b[39;00m\u001b[38;5;21;01m.\u001b[39;00m\u001b[38;5;21;01mintegration\u001b[39;00m\u001b[38;5;21;01m.\u001b[39;00m\u001b[38;5;21;01mgt\u001b[39;00m \u001b[38;5;28;01mimport\u001b[39;00m \u001b[38;5;241m*\u001b[39m\n",
      "\u001b[1;31mModuleNotFoundError\u001b[0m: No module named 'netpixi'"
     ]
    }
   ],
   "source": [
    "import seaborn\n",
    "import netpixi\n",
    "from netpixi.integration.gt import *\n",
    "from regression.integration.gt import *\n",
    "import csv"
   ]
  },
  {
   "cell_type": "code",
   "execution_count": null,
   "id": "67268dce",
   "metadata": {
    "vscode": {
     "languageId": "python"
    }
   },
   "outputs": [],
   "source": [
    "g = Graph(directed=False) # não-dirigido\n",
    "li=[]\n",
    "with open('facebook_large/musae_facebook_edges.csv', 'r') as myfile:\n",
    "    csv_reader = csv.reader(myfile, delimiter='\\n')\n",
    "    next(csv_reader)\n",
    "    myline = myfile.readline()\n",
    "    while myline:\n",
    "        lista = myline.split(',')\n",
    "        a = int(lista[0])\n",
    "        b = int(lista[1])\n",
    "        if a not in li:\n",
    "            li.append(a)\n",
    "            g.add_vertex(a)\n",
    "        if b not in li:\n",
    "            li.append(b)\n",
    "            g.add_vertex(b)\n",
    "        myline = myfile.readline()     \n",
    "del li\n",
    "with open('facebook_large/musae_facebook_edges.csv', 'r') as myfile:\n",
    "    csv_reader = csv.reader(myfile, delimiter='\\n')\n",
    "    next(csv_reader)\n",
    "    myline = myfile.readline()\n",
    "    while myline:\n",
    "        lista = myline.split(',')\n",
    "        a = int(lista[0])\n",
    "        b = int(lista[1])\n",
    "        try:\n",
    "            g.add_edge(g.get_vertex(a),g.get_vertex(b))\n",
    "        except ValueError:\n",
    "            pass\n",
    "        myline = myfile.readline()"
   ]
  },
  {
   "cell_type": "code",
   "execution_count": null,
   "id": "6325141a",
   "metadata": {
    "vscode": {
     "languageId": "python"
    }
   },
   "outputs": [],
   "source": [
    "m = g.num_edges()\n",
    "n = g.num_vertices()\n",
    "print('número de vértices de g:', g.num_vertices())\n",
    "print('número de arestas de g:', g.num_edges())"
   ]
  },
  {
   "cell_type": "code",
   "execution_count": null,
   "id": "b9a309b2",
   "metadata": {
    "vscode": {
     "languageId": "python"
    }
   },
   "outputs": [],
   "source": [
    "max_edges = n * (n - 1) // 2\n",
    "d = m / max_edges\n",
    "print('Temos {} arestas e uma densidade de {:.5f}'.format(n,d))"
   ]
  },
  {
   "cell_type": "code",
   "execution_count": null,
   "id": "05d3a454",
   "metadata": {
    "vscode": {
     "languageId": "python"
    }
   },
   "outputs": [],
   "source": [
    "data = gt_data(g)\n"
   ]
  },
  {
   "cell_type": "markdown",
   "id": "1138837a",
   "metadata": {},
   "source": [
    "Degree"
   ]
  },
  {
   "cell_type": "code",
   "execution_count": null,
   "id": "3b9bfb9a",
   "metadata": {
    "vscode": {
     "languageId": "python"
    }
   },
   "outputs": [],
   "source": [
    "in_degrees = []\n",
    "for v in g.all_vertices():\n",
    "    in_degrees.append(v.in_degree())\n",
    "\n",
    "out_degrees = []\n",
    "for v in g.all_vertices():\n",
    "    out_degrees.append(v.out_degree())\n",
    "\n",
    "degrees = []\n",
    "for v in g.all_vertices():\n",
    "    degrees.append(v.total_degree())"
   ]
  },
  {
   "cell_type": "code",
   "execution_count": null,
   "id": "f870ab1e",
   "metadata": {
    "vscode": {
     "languageId": "python"
    }
   },
   "outputs": [],
   "source": [
    "data['in_degree'] = in_degrees\n",
    "data['out_degree'] = out_degrees\n",
    "data['degree'] = degrees\n",
    "data"
   ]
  },
  {
   "cell_type": "code",
   "execution_count": null,
   "id": "7353f568",
   "metadata": {
    "vscode": {
     "languageId": "python"
    }
   },
   "outputs": [],
   "source": [
    "data['in_degree'].hist(bins=range(100))\n",
    "data['in_degree'].describe()"
   ]
  },
  {
   "cell_type": "code",
   "execution_count": null,
   "id": "94aa30fe",
   "metadata": {
    "vscode": {
     "languageId": "python"
    }
   },
   "outputs": [],
   "source": [
    "data['degree'].hist(bins=range(100))\n",
    "data['degree'].describe()"
   ]
  },
  {
   "cell_type": "code",
   "execution_count": null,
   "id": "a6b50f5e",
   "metadata": {
    "scrolled": true,
    "vscode": {
     "languageId": "python"
    }
   },
   "outputs": [],
   "source": [
    "data['degree'].hist(bins=range(100))\n",
    "data['degree'].describe()"
   ]
  },
  {
   "cell_type": "code",
   "execution_count": null,
   "id": "b6fbcc77",
   "metadata": {
    "vscode": {
     "languageId": "python"
    }
   },
   "outputs": [],
   "source": [
    "m = gt_draw.sfdp_layout(g)\n",
    "# m = gt_draw.arf_layout(g)\n",
    "# m = gt_draw.fruchterman_reingold_layout(g)\n",
    "\n",
    "print(\"1\")\n",
    "gt_move(g, m)\n",
    "print('2')\n",
    "gt_save(g, 'exemplo.net.gz')\n",
    "print('3')\n",
    "r = netpixi.render('exemplo.net.gz', infinite = True, aspect = 1);"
   ]
  },
  {
   "cell_type": "code",
   "execution_count": null,
   "id": "7ec9572c",
   "metadata": {
    "vscode": {
     "languageId": "python"
    }
   },
   "outputs": [],
   "source": [
    "r.vertex_default(color=0xffffff, size=10)\n",
    "r.edge_default( width=1)"
   ]
  },
  {
   "cell_type": "code",
   "execution_count": null,
   "id": "a0af6ca8",
   "metadata": {},
   "outputs": [],
   "source": []
  }
 ],
 "metadata": {
  "kernelspec": {
   "display_name": "Python 3 (ipykernel)",
   "language": "python",
   "name": "python3"
  },
  "language_info": {
   "codemirror_mode": {
    "name": "ipython",
    "version": 3
   },
   "file_extension": ".py",
   "mimetype": "text/x-python",
   "name": "python",
   "nbconvert_exporter": "python",
   "pygments_lexer": "ipython3",
   "version": "3.9.12"
  }
 },
 "nbformat": 4,
 "nbformat_minor": 5
}
