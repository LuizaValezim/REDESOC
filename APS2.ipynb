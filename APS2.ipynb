{
 "cells": [
  {
   "cell_type": "markdown",
   "id": "990b9e42",
   "metadata": {},
   "source": [
    "# APS 2"
   ]
  },
  {
   "cell_type": "markdown",
   "id": "971a2e8c",
   "metadata": {},
   "source": [
    "Antonio Fonseca, Ellen Shen e Luiza Valezim"
   ]
  },
  {
   "cell_type": "markdown",
   "id": "2c45c747",
   "metadata": {},
   "source": [
    "Esta APS consiste em analisar o cálculo de métricas locais de vértices e a interpretação sobre essas redes e essas métricas. O dataset escolhido foi: https://snap.stanford.edu/data/facebook-large-page-page-network.html"
   ]
  },
  {
   "cell_type": "code",
   "execution_count": null,
   "id": "c61b05af",
   "metadata": {},
   "outputs": [],
   "source": [
    "import netpixi\n",
    "import numpy as np\n",
    "from netpixi.integration.gt import *\n",
    "from regression.integration.gt import *\n",
    "from graph_tool import centrality"
   ]
  },
  {
   "cell_type": "code",
   "execution_count": null,
   "id": "8d0413ae",
   "metadata": {},
   "outputs": [],
   "source": []
  },
  {
   "cell_type": "code",
   "execution_count": null,
   "id": "26488717",
   "metadata": {},
   "outputs": [],
   "source": []
  },
  {
   "cell_type": "markdown",
   "id": "4e0c6810",
   "metadata": {},
   "source": [
    "## Métricas de Centralidade"
   ]
  },
  {
   "cell_type": "markdown",
   "id": "aa9d2bbc",
   "metadata": {},
   "source": [
    "Essas métricas permitem a avaliação da importância de um nó dentro da rede."
   ]
  },
  {
   "cell_type": "code",
   "execution_count": null,
   "id": "e3db8937",
   "metadata": {},
   "outputs": [],
   "source": [
    "#utilizando o grafo da APS1\n",
    "grafo = gt_load('.gz')"
   ]
  },
  {
   "cell_type": "markdown",
   "id": "da483090",
   "metadata": {},
   "source": [
    "### Degree"
   ]
  },
  {
   "cell_type": "markdown",
   "id": "d03414a6",
   "metadata": {},
   "source": [
    "A centralidade de degree representa o número de ligações que um nó possui, dividido pelo número de ligações possíveis, ou seja, a quantidade de arestas do vértices.  Esta métrica é usada para identificar os nós que têm o maior número de ligações."
   ]
  },
  {
   "cell_type": "code",
   "execution_count": null,
   "id": "0452e5ba",
   "metadata": {},
   "outputs": [],
   "source": [
    "#calculando a centralidade degree\n",
    "degree = gt_total_degree(grafo)\n",
    "grafo.add_vp('degree', dc)"
   ]
  },
  {
   "cell_type": "code",
   "execution_count": null,
   "id": "aaa8a27e",
   "metadata": {},
   "outputs": [],
   "source": [
    "gt_data(grafo)"
   ]
  },
  {
   "cell_type": "code",
   "execution_count": null,
   "id": "d1b7aa30",
   "metadata": {},
   "outputs": [],
   "source": [
    "r = netpixi.render('exemplo.net.gz')"
   ]
  },
  {
   "cell_type": "code",
   "execution_count": null,
   "id": "1f1e5e11",
   "metadata": {},
   "outputs": [],
   "source": [
    "r.vertex_set_key('id')\n",
    "r.vertex_scale('degree', 1, 10)"
   ]
  },
  {
   "cell_type": "markdown",
   "id": "56754753",
   "metadata": {},
   "source": [
    "*analise e conclusao*"
   ]
  },
  {
   "cell_type": "markdown",
   "id": "092324bb",
   "metadata": {},
   "source": [
    "## Betweenness"
   ]
  },
  {
   "cell_type": "markdown",
   "id": "3267e9d8",
   "metadata": {},
   "source": [
    "A centralidade de betweeness representa a quantidade de geodésicas (caminhos com menor comprimento possível) que passam pelo vértice. Esta métrica permite analisar o potencial de comunicação de um ator dentro da rede."
   ]
  },
  {
   "cell_type": "code",
   "execution_count": null,
   "id": "405fa6f5",
   "metadata": {},
   "outputs": [],
   "source": [
    "#calculando a centralidade betweenness\n",
    "betweenness, _ = centrality.betweenness(grafo)\n",
    "grafo.add_vp('betweenness', bc)"
   ]
  },
  {
   "cell_type": "code",
   "execution_count": null,
   "id": "50ef51fc",
   "metadata": {},
   "outputs": [],
   "source": [
    "gt_data(grafo)"
   ]
  },
  {
   "cell_type": "code",
   "execution_count": null,
   "id": "1dd12ca7",
   "metadata": {},
   "outputs": [],
   "source": [
    "r = netpixi.render('exemplo.net.gz')"
   ]
  },
  {
   "cell_type": "code",
   "execution_count": null,
   "id": "fa7abc45",
   "metadata": {},
   "outputs": [],
   "source": [
    "r.vertex_set_key('id')\n",
    "r.vertex_scale('betweenness', 1, 20)"
   ]
  },
  {
   "cell_type": "markdown",
   "id": "b10fc16d",
   "metadata": {},
   "source": [
    "*analise e conclusao*"
   ]
  },
  {
   "cell_type": "markdown",
   "id": "ebdc6dcf",
   "metadata": {},
   "source": [
    "## Closeness"
   ]
  },
  {
   "cell_type": "markdown",
   "id": "1d8b7c21",
   "metadata": {},
   "source": [
    "A centralidade de closeness representa a proximidade (inverso da distância) média do vértice para os outros vértices da rede. Esta métrica indica a capacidade de alcance de um nó dentro da rede."
   ]
  },
  {
   "cell_type": "code",
   "execution_count": null,
   "id": "90f933be",
   "metadata": {},
   "outputs": [],
   "source": [
    "#calculando a centralidade closeness\n",
    "cc_completo = centrality.closeness(grafo)\n",
    "grafo.add_vp('closeness', bc)"
   ]
  },
  {
   "cell_type": "code",
   "execution_count": null,
   "id": "7071e628",
   "metadata": {},
   "outputs": [],
   "source": [
    "gt_data(grafo)"
   ]
  },
  {
   "cell_type": "code",
   "execution_count": null,
   "id": "f9fc7dd2",
   "metadata": {},
   "outputs": [],
   "source": [
    "r = netpixi.render('exemplo.net.gz')"
   ]
  },
  {
   "cell_type": "code",
   "execution_count": null,
   "id": "7b75179a",
   "metadata": {},
   "outputs": [],
   "source": [
    "r.vertex_set_key('id')\n",
    "r.vertex_scale('closeness', 0.5, 3)"
   ]
  },
  {
   "cell_type": "markdown",
   "id": "a73ed010",
   "metadata": {},
   "source": [
    "*analise e conclusao*"
   ]
  },
  {
   "cell_type": "markdown",
   "id": "e8fe77f9",
   "metadata": {},
   "source": [
    "## Clustering coefficient"
   ]
  },
  {
   "cell_type": "markdown",
   "id": "c11479ed",
   "metadata": {},
   "source": [
    "*explicacao*"
   ]
  },
  {
   "cell_type": "code",
   "execution_count": null,
   "id": "9bc6794e",
   "metadata": {},
   "outputs": [],
   "source": [
    "from graph_tool import clustering\n",
    "\n",
    "lc = clustering.local_clustering(grafo)\n",
    "grafo.add_vp('clustering', lc)"
   ]
  },
  {
   "cell_type": "code",
   "execution_count": null,
   "id": "f481f4ce",
   "metadata": {},
   "outputs": [],
   "source": [
    "gt_data(g)"
   ]
  },
  {
   "cell_type": "code",
   "execution_count": null,
   "id": "a63a60cb",
   "metadata": {},
   "outputs": [],
   "source": [
    "r = netpixi.render('exemplo.net.gz')"
   ]
  },
  {
   "cell_type": "code",
   "execution_count": null,
   "id": "1873f858",
   "metadata": {},
   "outputs": [],
   "source": [
    "r.vertex_scale('clustering', 10, 30)"
   ]
  },
  {
   "cell_type": "markdown",
   "id": "501829b1",
   "metadata": {},
   "source": [
    "*analise e conclusao*"
   ]
  },
  {
   "cell_type": "markdown",
   "id": "9bfaffb9",
   "metadata": {},
   "source": [
    "## Lacunas estruturais"
   ]
  },
  {
   "cell_type": "markdown",
   "id": "f6a2c653",
   "metadata": {},
   "source": [
    "Na teoria de *lacunas estruturais,* a existência de uma aresta $(u, v)$ pode ser interpretada como um *investimento* que $u$ faz para manter uma relação com $v$, esperando que essa relação lhe dê acesso a informações e outros recursos."
   ]
  },
  {
   "cell_type": "code",
   "execution_count": null,
   "id": "42f71bd0",
   "metadata": {},
   "outputs": [],
   "source": [
    "es = gt_effective_size(grafo)\n",
    "g.add_vp('effsize', es)"
   ]
  },
  {
   "cell_type": "code",
   "execution_count": null,
   "id": "754da161",
   "metadata": {},
   "outputs": [],
   "source": [
    "gt_data(g)"
   ]
  },
  {
   "cell_type": "code",
   "execution_count": null,
   "id": "6200f0bf",
   "metadata": {},
   "outputs": [],
   "source": [
    "r = netpixi.render('exemplo.net.gz')"
   ]
  },
  {
   "cell_type": "code",
   "execution_count": null,
   "id": "9e691546",
   "metadata": {},
   "outputs": [],
   "source": [
    "r.vertex_scale('effsize', 10, 30)"
   ]
  }
 ],
 "metadata": {
  "kernelspec": {
   "display_name": "Python 3 (ipykernel)",
   "language": "python",
   "name": "python3"
  },
  "language_info": {
   "codemirror_mode": {
    "name": "ipython",
    "version": 3
   },
   "file_extension": ".py",
   "mimetype": "text/x-python",
   "name": "python",
   "nbconvert_exporter": "python",
   "pygments_lexer": "ipython3",
   "version": "3.10.6"
  }
 },
 "nbformat": 4,
 "nbformat_minor": 5
}
