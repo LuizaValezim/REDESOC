{
 "cells": [
  {
   "cell_type": "markdown",
   "id": "990b9e42",
   "metadata": {},
   "source": [
    "# APS 2"
   ]
  },
  {
   "cell_type": "markdown",
   "id": "971a2e8c",
   "metadata": {},
   "source": [
    "Antonio Fonseca, Ellen Shen e Luiza Valezim"
   ]
  },
  {
   "cell_type": "markdown",
   "id": "2c45c747",
   "metadata": {},
   "source": [
    "Esta APS consiste em analisar o cálculo de métricas locais de vértices e a interpretação sobre essas redes e essas métricas. O dataset escolhido foi: https://snap.stanford.edu/data/facebook-large-page-page-network.html. Esse dataset tem como objetivo ver se há uma relação entre o conteúdo / assunto de cada página com suas curtidas em outras páginas.\n",
    "\n",
    "Análise inicial dos dados:\n",
    "- **O que os vértices da rede representam?** Eles representam as páginas que existem na rede social Facebook.\n",
    "- **O que as arestas da rede representam?** As arestas são as curtidas dadas entre as páginas.\n",
    "- **O que os grupos formados pela tarefa 4 representam?** Os grupos formados podem ser consideradas páginas que produzem conteúdo sobre assuntos semelhantes."
   ]
  },
  {
   "cell_type": "code",
   "execution_count": 11,
   "id": "c61b05af",
   "metadata": {},
   "outputs": [],
   "source": [
    "import netpixi\n",
    "import numpy as np\n",
    "from netpixi.integration.gt import *\n",
    "from regression.integration.gt import *\n",
    "from graph_tool import centrality"
   ]
  },
  {
   "cell_type": "markdown",
   "id": "da431e4d",
   "metadata": {},
   "source": [
    "colocar imagem "
   ]
  },
  {
   "cell_type": "code",
   "execution_count": 12,
   "id": "994590e0",
   "metadata": {},
   "outputs": [],
   "source": [
    "#utilizando o grafo da APS1\n",
    "grafo = gt_load('facebook.net.gz')"
   ]
  },
  {
   "cell_type": "markdown",
   "id": "b40b3769",
   "metadata": {},
   "source": [
    "###  Redução a um componente"
   ]
  },
  {
   "cell_type": "markdown",
   "id": "27c4ba48",
   "metadata": {},
   "source": [
    "### O que os vértices da rede representam?\n",
    "Os vertices da rede reprensentam paginas verificadas no Facebook, de instituições governamentais, figuras do meio politico e veiculos de noticias.\n",
    "\n",
    "### O que as arestas da rede representam? /\n",
    "As arestas representam interaçoes mutuas entre as plataformas (troca de likes)\n",
    "\n",
    "### O que os grupos formados pela tarefa 4 representam?\n",
    "O grupos são bolhas de troca de informação, onde podemos assumir que todos os vertices (paginas) serão expostos aos posts dos demais membros da rede"
   ]
  },
  {
   "cell_type": "code",
   "execution_count": 4,
   "id": "4bffceb0",
   "metadata": {},
   "outputs": [
    {
     "ename": "KeyboardInterrupt",
     "evalue": "",
     "output_type": "error",
     "traceback": [
      "\u001b[0;31m---------------------------------------------------------------------------\u001b[0m",
      "\u001b[0;31mKeyboardInterrupt\u001b[0m                         Traceback (most recent call last)",
      "Cell \u001b[0;32mIn [4], line 3\u001b[0m\n\u001b[1;32m      1\u001b[0m grafo \u001b[38;5;241m=\u001b[39m gt_clean(grafo)\n\u001b[0;32m----> 3\u001b[0m m \u001b[38;5;241m=\u001b[39m \u001b[43mgt_draw\u001b[49m\u001b[38;5;241;43m.\u001b[39;49m\u001b[43msfdp_layout\u001b[49m\u001b[43m(\u001b[49m\u001b[43mgrafo\u001b[49m\u001b[43m)\u001b[49m\n\u001b[1;32m      4\u001b[0m gt_move(grafo, m)\n\u001b[1;32m      5\u001b[0m gt_save(grafo, \u001b[38;5;124m'\u001b[39m\u001b[38;5;124mexemplo.net.gz\u001b[39m\u001b[38;5;124m'\u001b[39m)\n",
      "File \u001b[0;32m/usr/lib/python3/dist-packages/graph_tool/draw/__init__.py:693\u001b[0m, in \u001b[0;36msfdp_layout\u001b[0;34m(g, vweight, eweight, pin, groups, C, K, p, theta, max_level, r, gamma, mu, kappa, rmap, R, init_step, cooling_step, adaptive_cooling, epsilon, max_iter, pos, multilevel, coarse_method, mivs_thres, ec_thres, weighted_coarse, verbose)\u001b[0m\n\u001b[1;32m    691\u001b[0m         \u001b[38;5;28mprint\u001b[39m(\u001b[38;5;124m\"\u001b[39m\u001b[38;5;124mwith K =\u001b[39m\u001b[38;5;124m\"\u001b[39m, K, \u001b[38;5;124m\"\u001b[39m\u001b[38;5;124m...\u001b[39m\u001b[38;5;124m\"\u001b[39m)\n\u001b[1;32m    692\u001b[0m         count \u001b[38;5;241m+\u001b[39m\u001b[38;5;241m=\u001b[39m \u001b[38;5;241m1\u001b[39m\n\u001b[0;32m--> 693\u001b[0m     pos \u001b[38;5;241m=\u001b[39m \u001b[43msfdp_layout\u001b[49m\u001b[43m(\u001b[49m\u001b[43mu\u001b[49m\u001b[43m,\u001b[49m\u001b[43m \u001b[49m\u001b[43mpos\u001b[49m\u001b[38;5;241;43m=\u001b[39;49m\u001b[43mpos\u001b[49m\u001b[43m,\u001b[49m\n\u001b[1;32m    694\u001b[0m \u001b[43m                      \u001b[49m\u001b[43mvweight\u001b[49m\u001b[38;5;241;43m=\u001b[39;49m\u001b[43mvcount\u001b[49m\u001b[43m \u001b[49m\u001b[38;5;28;43;01mif\u001b[39;49;00m\u001b[43m \u001b[49m\u001b[43mweighted_coarse\u001b[49m\u001b[43m \u001b[49m\u001b[38;5;28;43;01melse\u001b[39;49;00m\u001b[43m \u001b[49m\u001b[38;5;28;43;01mNone\u001b[39;49;00m\u001b[43m,\u001b[49m\n\u001b[1;32m    695\u001b[0m \u001b[43m                      \u001b[49m\u001b[43meweight\u001b[49m\u001b[38;5;241;43m=\u001b[39;49m\u001b[43mecount\u001b[49m\u001b[43m \u001b[49m\u001b[38;5;28;43;01mif\u001b[39;49;00m\u001b[43m \u001b[49m\u001b[43mweighted_coarse\u001b[49m\u001b[43m \u001b[49m\u001b[38;5;28;43;01melse\u001b[39;49;00m\u001b[43m \u001b[49m\u001b[38;5;28;43;01mNone\u001b[39;49;00m\u001b[43m,\u001b[49m\n\u001b[1;32m    696\u001b[0m \u001b[43m                      \u001b[49m\u001b[43mgroups\u001b[49m\u001b[38;5;241;43m=\u001b[39;49m\u001b[43mgroups\u001b[49m\u001b[43m,\u001b[49m\n\u001b[1;32m    697\u001b[0m \u001b[43m                      \u001b[49m\u001b[43mC\u001b[49m\u001b[38;5;241;43m=\u001b[39;49m\u001b[43mC\u001b[49m\u001b[43m,\u001b[49m\u001b[43m \u001b[49m\u001b[43mK\u001b[49m\u001b[38;5;241;43m=\u001b[39;49m\u001b[43mK\u001b[49m\u001b[43m,\u001b[49m\u001b[43m \u001b[49m\u001b[43mp\u001b[49m\u001b[38;5;241;43m=\u001b[39;49m\u001b[43mp\u001b[49m\u001b[43m,\u001b[49m\n\u001b[1;32m    698\u001b[0m \u001b[43m                      \u001b[49m\u001b[43mtheta\u001b[49m\u001b[38;5;241;43m=\u001b[39;49m\u001b[43mtheta\u001b[49m\u001b[43m,\u001b[49m\u001b[43m \u001b[49m\u001b[43mgamma\u001b[49m\u001b[38;5;241;43m=\u001b[39;49m\u001b[43mgamma\u001b[49m\u001b[43m,\u001b[49m\u001b[43m \u001b[49m\u001b[43mmu\u001b[49m\u001b[38;5;241;43m=\u001b[39;49m\u001b[43mmu\u001b[49m\u001b[43m,\u001b[49m\u001b[43m \u001b[49m\u001b[43mkappa\u001b[49m\u001b[38;5;241;43m=\u001b[39;49m\u001b[43mkappa\u001b[49m\u001b[43m,\u001b[49m\n\u001b[1;32m    699\u001b[0m \u001b[43m                      \u001b[49m\u001b[43mepsilon\u001b[49m\u001b[38;5;241;43m=\u001b[39;49m\u001b[43mepsilon\u001b[49m\u001b[43m,\u001b[49m\n\u001b[1;32m    700\u001b[0m \u001b[43m                      \u001b[49m\u001b[43mmax_iter\u001b[49m\u001b[38;5;241;43m=\u001b[39;49m\u001b[43mmax_iter\u001b[49m\u001b[43m,\u001b[49m\n\u001b[1;32m    701\u001b[0m \u001b[43m                      \u001b[49m\u001b[43mcooling_step\u001b[49m\u001b[38;5;241;43m=\u001b[39;49m\u001b[43mcooling_step\u001b[49m\u001b[43m,\u001b[49m\n\u001b[1;32m    702\u001b[0m \u001b[43m                      \u001b[49m\u001b[43madaptive_cooling\u001b[49m\u001b[38;5;241;43m=\u001b[39;49m\u001b[38;5;28;43;01mFalse\u001b[39;49;00m\u001b[43m,\u001b[49m\n\u001b[1;32m    703\u001b[0m \u001b[43m                      \u001b[49m\u001b[38;5;66;43;03m# init_step=max(2 * K,\u001b[39;49;00m\n\u001b[1;32m    704\u001b[0m \u001b[43m                      \u001b[49m\u001b[38;5;66;43;03m#               _avg_edge_distance(u, pos)),\u001b[39;49;00m\n\u001b[1;32m    705\u001b[0m \u001b[43m                      \u001b[49m\u001b[43mmultilevel\u001b[49m\u001b[38;5;241;43m=\u001b[39;49m\u001b[38;5;28;43;01mFalse\u001b[39;49;00m\u001b[43m,\u001b[49m\n\u001b[1;32m    706\u001b[0m \u001b[43m                      \u001b[49m\u001b[43mverbose\u001b[49m\u001b[38;5;241;43m=\u001b[39;49m\u001b[38;5;28;43;01mFalse\u001b[39;49;00m\u001b[43m)\u001b[49m\n\u001b[1;32m    707\u001b[0m pos \u001b[38;5;241m=\u001b[39m g_\u001b[38;5;241m.\u001b[39mown_property(pos)\n\u001b[1;32m    708\u001b[0m \u001b[38;5;28;01mreturn\u001b[39;00m pos\n",
      "File \u001b[0;32m/usr/lib/python3/dist-packages/graph_tool/draw/__init__.py:726\u001b[0m, in \u001b[0;36msfdp_layout\u001b[0;34m(g, vweight, eweight, pin, groups, C, K, p, theta, max_level, r, gamma, mu, kappa, rmap, R, init_step, cooling_step, adaptive_cooling, epsilon, max_iter, pos, multilevel, coarse_method, mivs_thres, ec_thres, weighted_coarse, verbose)\u001b[0m\n\u001b[1;32m    723\u001b[0m c \u001b[38;5;241m=\u001b[39m label_components(g)[\u001b[38;5;241m0\u001b[39m]\n\u001b[1;32m    725\u001b[0m libgraph_tool_layout\u001b[38;5;241m.\u001b[39msanitize_pos(g\u001b[38;5;241m.\u001b[39m_Graph__graph, _prop(\u001b[38;5;124m\"\u001b[39m\u001b[38;5;124mv\u001b[39m\u001b[38;5;124m\"\u001b[39m, g, pos))\n\u001b[0;32m--> 726\u001b[0m \u001b[43mlibgraph_tool_layout\u001b[49m\u001b[38;5;241;43m.\u001b[39;49m\u001b[43msfdp_layout\u001b[49m\u001b[43m(\u001b[49m\u001b[43mg\u001b[49m\u001b[38;5;241;43m.\u001b[39;49m\u001b[43m_Graph__graph\u001b[49m\u001b[43m,\u001b[49m\u001b[43m \u001b[49m\u001b[43m_prop\u001b[49m\u001b[43m(\u001b[49m\u001b[38;5;124;43m\"\u001b[39;49m\u001b[38;5;124;43mv\u001b[39;49m\u001b[38;5;124;43m\"\u001b[39;49m\u001b[43m,\u001b[49m\u001b[43m \u001b[49m\u001b[43mg\u001b[49m\u001b[43m,\u001b[49m\u001b[43m \u001b[49m\u001b[43mpos\u001b[49m\u001b[43m)\u001b[49m\u001b[43m,\u001b[49m\n\u001b[1;32m    727\u001b[0m \u001b[43m                                 \u001b[49m\u001b[43m_prop\u001b[49m\u001b[43m(\u001b[49m\u001b[38;5;124;43m\"\u001b[39;49m\u001b[38;5;124;43mv\u001b[39;49m\u001b[38;5;124;43m\"\u001b[39;49m\u001b[43m,\u001b[49m\u001b[43m \u001b[49m\u001b[43mg\u001b[49m\u001b[43m,\u001b[49m\u001b[43m \u001b[49m\u001b[43mvweight\u001b[49m\u001b[43m)\u001b[49m\u001b[43m,\u001b[49m\n\u001b[1;32m    728\u001b[0m \u001b[43m                                 \u001b[49m\u001b[43m_prop\u001b[49m\u001b[43m(\u001b[49m\u001b[38;5;124;43m\"\u001b[39;49m\u001b[38;5;124;43me\u001b[39;49m\u001b[38;5;124;43m\"\u001b[39;49m\u001b[43m,\u001b[49m\u001b[43m \u001b[49m\u001b[43mg\u001b[49m\u001b[43m,\u001b[49m\u001b[43m \u001b[49m\u001b[43meweight\u001b[49m\u001b[43m)\u001b[49m\u001b[43m,\u001b[49m\n\u001b[1;32m    729\u001b[0m \u001b[43m                                 \u001b[49m\u001b[43m_prop\u001b[49m\u001b[43m(\u001b[49m\u001b[38;5;124;43m\"\u001b[39;49m\u001b[38;5;124;43mv\u001b[39;49m\u001b[38;5;124;43m\"\u001b[39;49m\u001b[43m,\u001b[49m\u001b[43m \u001b[49m\u001b[43mg\u001b[49m\u001b[43m,\u001b[49m\u001b[43m \u001b[49m\u001b[43mpin\u001b[49m\u001b[43m)\u001b[49m\u001b[43m,\u001b[49m\n\u001b[1;32m    730\u001b[0m \u001b[43m                                 \u001b[49m\u001b[43m(\u001b[49m\u001b[43mC\u001b[49m\u001b[43m,\u001b[49m\u001b[43m \u001b[49m\u001b[43mK\u001b[49m\u001b[43m,\u001b[49m\u001b[43m \u001b[49m\u001b[43mp\u001b[49m\u001b[43m,\u001b[49m\u001b[43m \u001b[49m\u001b[43mgamma\u001b[49m\u001b[43m,\u001b[49m\u001b[43m \u001b[49m\u001b[43mmu\u001b[49m\u001b[43m,\u001b[49m\u001b[43m \u001b[49m\u001b[43mkappa\u001b[49m\u001b[43m,\u001b[49m\u001b[43m \u001b[49m\u001b[43mgroups\u001b[49m\u001b[43m,\u001b[49m\u001b[43m \u001b[49m\u001b[43mr\u001b[49m\u001b[43m,\u001b[49m\n\u001b[1;32m    731\u001b[0m \u001b[43m                                  \u001b[49m\u001b[43m_prop\u001b[49m\u001b[43m(\u001b[49m\u001b[38;5;124;43m\"\u001b[39;49m\u001b[38;5;124;43mv\u001b[39;49m\u001b[38;5;124;43m\"\u001b[39;49m\u001b[43m,\u001b[49m\u001b[43m \u001b[49m\u001b[43mg\u001b[49m\u001b[43m,\u001b[49m\u001b[43m \u001b[49m\u001b[43mc\u001b[49m\u001b[43m)\u001b[49m\u001b[43m,\u001b[49m\u001b[43m \u001b[49m\u001b[43mR\u001b[49m\u001b[43m,\u001b[49m\u001b[43m \u001b[49m\u001b[43m_prop\u001b[49m\u001b[43m(\u001b[49m\u001b[38;5;124;43m\"\u001b[39;49m\u001b[38;5;124;43mv\u001b[39;49m\u001b[38;5;124;43m\"\u001b[39;49m\u001b[43m,\u001b[49m\u001b[43m \u001b[49m\u001b[43mg\u001b[49m\u001b[43m,\u001b[49m\u001b[43m \u001b[49m\u001b[43mrmap\u001b[49m\u001b[43m)\u001b[49m\u001b[43m)\u001b[49m\u001b[43m,\u001b[49m\n\u001b[1;32m    732\u001b[0m \u001b[43m                                 \u001b[49m\u001b[43mtheta\u001b[49m\u001b[43m,\u001b[49m\u001b[43m \u001b[49m\u001b[43minit_step\u001b[49m\u001b[43m,\u001b[49m\u001b[43m \u001b[49m\u001b[43mcooling_step\u001b[49m\u001b[43m,\u001b[49m\u001b[43m \u001b[49m\u001b[43mmax_level\u001b[49m\u001b[43m,\u001b[49m\n\u001b[1;32m    733\u001b[0m \u001b[43m                                 \u001b[49m\u001b[43mepsilon\u001b[49m\u001b[43m,\u001b[49m\u001b[43m \u001b[49m\u001b[43mmax_iter\u001b[49m\u001b[43m,\u001b[49m\u001b[43m \u001b[49m\u001b[38;5;129;43;01mnot\u001b[39;49;00m\u001b[43m \u001b[49m\u001b[43madaptive_cooling\u001b[49m\u001b[43m,\u001b[49m\n\u001b[1;32m    734\u001b[0m \u001b[43m                                 \u001b[49m\u001b[43mverbose\u001b[49m\u001b[43m,\u001b[49m\u001b[43m \u001b[49m\u001b[43m_get_rng\u001b[49m\u001b[43m(\u001b[49m\u001b[43m)\u001b[49m\u001b[43m)\u001b[49m\n\u001b[1;32m    735\u001b[0m pos \u001b[38;5;241m=\u001b[39m g_\u001b[38;5;241m.\u001b[39mown_property(pos)\n\u001b[1;32m    736\u001b[0m \u001b[38;5;28;01mreturn\u001b[39;00m pos\n",
      "\u001b[0;31mKeyboardInterrupt\u001b[0m: "
     ]
    }
   ],
   "source": [
    "grafo = gt_clean(grafo)\n",
    "\n",
    "m = gt_draw.sfdp_layout(grafo)\n",
    "gt_move(grafo, m)\n",
    "gt_save(grafo, 'exemplo.net.gz')\n",
    "# r = netpixi.render('exemplo.net.gz', infinite = True)"
   ]
  },
  {
   "cell_type": "markdown",
   "id": "4e0c6810",
   "metadata": {},
   "source": [
    "## Métricas de Centralidade"
   ]
  },
  {
   "cell_type": "markdown",
   "id": "aa9d2bbc",
   "metadata": {},
   "source": [
    "Essas métricas permitem a avaliação da importância de um nó dentro da rede."
   ]
  },
  {
   "cell_type": "code",
   "execution_count": null,
   "id": "e3db8937",
   "metadata": {},
   "outputs": [],
   "source": []
  },
  {
   "cell_type": "markdown",
   "id": "da483090",
   "metadata": {},
   "source": [
    "### Degree"
   ]
  },
  {
   "cell_type": "markdown",
   "id": "d03414a6",
   "metadata": {},
   "source": [
    "A centralidade de degree representa o número de ligações que um nó possui, dividido pelo número de ligações possíveis, ou seja, a quantidade de arestas do vértices.  Esta métrica é usada para identificar os nós que têm o maior número de ligações."
   ]
  },
  {
   "cell_type": "code",
   "execution_count": null,
   "id": "0452e5ba",
   "metadata": {},
   "outputs": [],
   "source": [
    "#calculando a centralidade degree\n",
    "degree = gt_total_degree(grafo)\n",
    "grafo.add_vp('degree', degree)"
   ]
  },
  {
   "cell_type": "code",
   "execution_count": null,
   "id": "aaa8a27e",
   "metadata": {
    "scrolled": true
   },
   "outputs": [],
   "source": [
    "gt_data(grafo).sort_values(\"degree\", ascending = False)"
   ]
  },
  {
   "cell_type": "code",
   "execution_count": null,
   "id": "e5a46c82",
   "metadata": {},
   "outputs": [],
   "source": [
    "# r = netpixi.render('facebook.net.gz', infinite = True, aspect = 1);"
   ]
  },
  {
   "cell_type": "code",
   "execution_count": null,
   "id": "1f1e5e11",
   "metadata": {},
   "outputs": [],
   "source": [
    "# r.vertex_set_key('id')\n",
    "r.vertex_unset_key()\n",
    "r.vertex_scale('degree', 1, 10)"
   ]
  },
  {
   "cell_type": "markdown",
   "id": "56754753",
   "metadata": {},
   "source": [
    "**Ter um degree alto:** Pode significar algumas coisas. Se for direcionado ao site, significa que o site tem alto engajamento, simbolizando que muitas pessoas curtem o seu conteúdo. Porém, se sair do site e for direcionado a um outro site, simboliza que o site engaja em outros sites. Esse engajamento, no nosso caso, pode ser traduzido por interesses em comum."
   ]
  },
  {
   "cell_type": "markdown",
   "id": "976a58a9",
   "metadata": {},
   "source": [
    "**Ter um degree baixo:** Significa que ele é ausente na rede social ou que ele não traz engajamento sobre o seu conteúdo."
   ]
  },
  {
   "cell_type": "markdown",
   "id": "11bcc950",
   "metadata": {},
   "source": [
    "relacionar aos dados "
   ]
  },
  {
   "cell_type": "markdown",
   "id": "092324bb",
   "metadata": {},
   "source": [
    "---\n",
    "\n",
    "### Betweenness"
   ]
  },
  {
   "cell_type": "markdown",
   "id": "3267e9d8",
   "metadata": {},
   "source": [
    "A centralidade de betweeness representa a quantidade de geodésicas (caminhos com menor comprimento possível) que passam pelo vértice. Esta métrica permite analisar o potencial de comunicação de um ator dentro da rede."
   ]
  },
  {
   "cell_type": "code",
   "execution_count": null,
   "id": "405fa6f5",
   "metadata": {},
   "outputs": [],
   "source": [
    "#calculando a centralidade betweenness\n",
    "betweenness, _ = centrality.betweenness(grafo)\n",
    "grafo.add_vp('betweenness', betweenness)"
   ]
  },
  {
   "cell_type": "code",
   "execution_count": null,
   "id": "50ef51fc",
   "metadata": {},
   "outputs": [],
   "source": [
    "gt_data(grafo).sort_values(\"betweenness\", ascending = False)"
   ]
  },
  {
   "cell_type": "code",
   "execution_count": null,
   "id": "1dd12ca7",
   "metadata": {},
   "outputs": [],
   "source": [
    "r = netpixi.render('facebook.net.gz', infinite = True, aspect = 1)"
   ]
  },
  {
   "cell_type": "code",
   "execution_count": null,
   "id": "fa7abc45",
   "metadata": {},
   "outputs": [],
   "source": [
    "#r.vertex_set_key('id')\n",
    "r.vertex_scale('betweenness', 1, 20)"
   ]
  },
  {
   "cell_type": "markdown",
   "id": "b10fc16d",
   "metadata": {},
   "source": [
    "**Ter betweenness alto:** Significa que há maior probabilidade de o site ter o conteúdo similar aos que são interligados por outro site intermediador."
   ]
  },
  {
   "cell_type": "markdown",
   "id": "70fa5b95",
   "metadata": {},
   "source": [
    "**Ter betweenness baixo:** Significa que há menor probabilidade desses conteúdos serem parecidos."
   ]
  },
  {
   "cell_type": "markdown",
   "id": "477d135d",
   "metadata": {},
   "source": [
    "relacionar aos dados "
   ]
  },
  {
   "cell_type": "markdown",
   "id": "ebdc6dcf",
   "metadata": {},
   "source": [
    "---\n",
    "\n",
    "### Closeness"
   ]
  },
  {
   "cell_type": "markdown",
   "id": "1d8b7c21",
   "metadata": {},
   "source": [
    "A centralidade de closeness representa a proximidade (inverso da distância) média do vértice para os outros vértices da rede. Esta métrica indica a capacidade de alcance de um nó dentro da rede."
   ]
  },
  {
   "cell_type": "code",
   "execution_count": null,
   "id": "90f933be",
   "metadata": {},
   "outputs": [],
   "source": [
    "#calculando a centralidade closeness\n",
    "closeness = centrality.closeness(grafo)\n",
    "grafo.add_vp('closeness', closeness)"
   ]
  },
  {
   "cell_type": "code",
   "execution_count": null,
   "id": "7071e628",
   "metadata": {},
   "outputs": [],
   "source": [
    "gt_data(grafo).sort_values(\"closeness\", ascending = False)"
   ]
  },
  {
   "cell_type": "code",
   "execution_count": null,
   "id": "f9fc7dd2",
   "metadata": {},
   "outputs": [],
   "source": [
    "r = netpixi.render('facebook.net.gz', infinite = True, aspect = 1)"
   ]
  },
  {
   "cell_type": "code",
   "execution_count": null,
   "id": "7b75179a",
   "metadata": {},
   "outputs": [],
   "source": [
    "#r.vertex_set_key('id')\n",
    "r.vertex_scale('closeness', 0.5, 3)"
   ]
  },
  {
   "cell_type": "markdown",
   "id": "a73ed010",
   "metadata": {},
   "source": [
    "**Ter closeness alto:** Quando temos dois sites próximos, podemos concluir que os seus conteúdos são parecidos, pois provavelmente fazem parte do mesmo grupo de assuntos.\n"
   ]
  },
  {
   "cell_type": "markdown",
   "id": "23a0958e",
   "metadata": {},
   "source": [
    "**Ter closeness baixo:** Quando temos dois sites distantes, supomos que os seus conteúdos tratam de assuntos bem diferentes, mas que devem ter alguma conexão, dado o engajamento."
   ]
  },
  {
   "cell_type": "markdown",
   "id": "9e1055a6",
   "metadata": {},
   "source": [
    "relacionar aos dados "
   ]
  },
  {
   "cell_type": "markdown",
   "id": "e8fe77f9",
   "metadata": {},
   "source": [
    "---\n",
    "\n",
    "### Clustering coefficient"
   ]
  },
  {
   "cell_type": "markdown",
   "id": "c11479ed",
   "metadata": {},
   "source": [
    "*explicacao*"
   ]
  },
  {
   "cell_type": "code",
   "execution_count": null,
   "id": "9bc6794e",
   "metadata": {},
   "outputs": [],
   "source": [
    "from graph_tool import clustering\n",
    "\n",
    "clustering_coef = clustering.local_clustering(grafo)\n",
    "grafo.add_vp('clustering', clustering_coef)"
   ]
  },
  {
   "cell_type": "code",
   "execution_count": null,
   "id": "f481f4ce",
   "metadata": {},
   "outputs": [],
   "source": [
    "gt_data(grafo).sort_values(\"clustering\", ascending = False)"
   ]
  },
  {
   "cell_type": "code",
   "execution_count": null,
   "id": "a63a60cb",
   "metadata": {},
   "outputs": [],
   "source": [
    "r = netpixi.render('facebook.net.gz', infinite = True, aspect = 1)"
   ]
  },
  {
   "cell_type": "code",
   "execution_count": null,
   "id": "1873f858",
   "metadata": {},
   "outputs": [],
   "source": [
    "r.vertex_scale('clustering', 10, 30)"
   ]
  },
  {
   "cell_type": "markdown",
   "id": "501829b1",
   "metadata": {},
   "source": [
    "**Ter Clustering coefficient alto:** Nesse caso, acreditamos que confirma a nossa hipótese inicial de que, quando há uma conexão (nesse caso, likes) entre sites, o seu conteúdo é similar ao do site curtido, pois sites parecidos tem mais probabilidade de curtirem um ao outro."
   ]
  },
  {
   "cell_type": "markdown",
   "id": "b8196727",
   "metadata": {},
   "source": [
    "**Ter Clustering coefficient baixo:** Nos faz questionar a nossa hipótese, visto que talvez tenha sido um like sem querer ou um site que seja muito generalista e aborde vários assuntos"
   ]
  },
  {
   "cell_type": "markdown",
   "id": "e2e8f375",
   "metadata": {},
   "source": [
    "relacionar aos dados "
   ]
  },
  {
   "cell_type": "markdown",
   "id": "9bfaffb9",
   "metadata": {},
   "source": [
    "---\n",
    "\n",
    "### Lacunas estruturais"
   ]
  },
  {
   "cell_type": "markdown",
   "id": "f6a2c653",
   "metadata": {},
   "source": [
    "Na teoria de *lacunas estruturais,* a existência de uma aresta $(u, v)$ pode ser interpretada como um *investimento* que $u$ faz para manter uma relação com $v$, esperando que essa relação lhe dê acesso a informações e outros recursos."
   ]
  },
  {
   "cell_type": "code",
   "execution_count": null,
   "id": "42f71bd0",
   "metadata": {},
   "outputs": [],
   "source": [
    "lacunas = gt_effective_size(grafo)\n",
    "grafo.add_vp('effsize', lacunas)"
   ]
  },
  {
   "cell_type": "code",
   "execution_count": null,
   "id": "754da161",
   "metadata": {},
   "outputs": [],
   "source": [
    "gt_data(grafo).sort_values(\"effsize\", ascending = False)"
   ]
  },
  {
   "cell_type": "code",
   "execution_count": null,
   "id": "6200f0bf",
   "metadata": {},
   "outputs": [],
   "source": [
    "r = netpixi.render('facebook.net.gz', infinite = True, aspect = 1)"
   ]
  },
  {
   "cell_type": "code",
   "execution_count": null,
   "id": "9e691546",
   "metadata": {},
   "outputs": [],
   "source": [
    "r.vertex_scale('effsize', 10, 30)"
   ]
  },
  {
   "cell_type": "markdown",
   "id": "16b4fa8c",
   "metadata": {},
   "source": [
    "### constraint"
   ]
  },
  {
   "cell_type": "code",
   "execution_count": 13,
   "id": "89ba4f69",
   "metadata": {},
   "outputs": [],
   "source": [
    "es = gt_constraint(grafo)\n",
    "grafo.add_vp('constraint', es)"
   ]
  },
  {
   "cell_type": "code",
   "execution_count": 14,
   "id": "96e4a97f",
   "metadata": {},
   "outputs": [
    {
     "data": {
      "text/html": [
       "<div>\n",
       "<style scoped>\n",
       "    .dataframe tbody tr th:only-of-type {\n",
       "        vertical-align: middle;\n",
       "    }\n",
       "\n",
       "    .dataframe tbody tr th {\n",
       "        vertical-align: top;\n",
       "    }\n",
       "\n",
       "    .dataframe thead th {\n",
       "        text-align: right;\n",
       "    }\n",
       "</style>\n",
       "<table border=\"1\" class=\"dataframe\">\n",
       "  <thead>\n",
       "    <tr style=\"text-align: right;\">\n",
       "      <th></th>\n",
       "      <th>constraint</th>\n",
       "    </tr>\n",
       "    <tr>\n",
       "      <th>id</th>\n",
       "      <th></th>\n",
       "    </tr>\n",
       "  </thead>\n",
       "  <tbody>\n",
       "    <tr>\n",
       "      <th>16357</th>\n",
       "      <td>1.006944</td>\n",
       "    </tr>\n",
       "    <tr>\n",
       "      <th>12713</th>\n",
       "      <td>1.006944</td>\n",
       "    </tr>\n",
       "    <tr>\n",
       "      <th>20987</th>\n",
       "      <td>1.006944</td>\n",
       "    </tr>\n",
       "    <tr>\n",
       "      <th>14237</th>\n",
       "      <td>1.006944</td>\n",
       "    </tr>\n",
       "    <tr>\n",
       "      <th>20039</th>\n",
       "      <td>1.006944</td>\n",
       "    </tr>\n",
       "    <tr>\n",
       "      <th>...</th>\n",
       "      <td>...</td>\n",
       "    </tr>\n",
       "    <tr>\n",
       "      <th>1259</th>\n",
       "      <td>0.005049</td>\n",
       "    </tr>\n",
       "    <tr>\n",
       "      <th>308</th>\n",
       "      <td>0.004119</td>\n",
       "    </tr>\n",
       "    <tr>\n",
       "      <th>30</th>\n",
       "      <td>0.003540</td>\n",
       "    </tr>\n",
       "    <tr>\n",
       "      <th>32</th>\n",
       "      <td>0.003535</td>\n",
       "    </tr>\n",
       "    <tr>\n",
       "      <th>304</th>\n",
       "      <td>0.003186</td>\n",
       "    </tr>\n",
       "  </tbody>\n",
       "</table>\n",
       "<p>22470 rows × 1 columns</p>\n",
       "</div>"
      ],
      "text/plain": [
       "       constraint\n",
       "id               \n",
       "16357    1.006944\n",
       "12713    1.006944\n",
       "20987    1.006944\n",
       "14237    1.006944\n",
       "20039    1.006944\n",
       "...           ...\n",
       "1259     0.005049\n",
       "308      0.004119\n",
       "30       0.003540\n",
       "32       0.003535\n",
       "304      0.003186\n",
       "\n",
       "[22470 rows x 1 columns]"
      ]
     },
     "execution_count": 14,
     "metadata": {},
     "output_type": "execute_result"
    }
   ],
   "source": [
    "gt_data(grafo).sort_values(\"constraint\", ascending = False)"
   ]
  },
  {
   "cell_type": "code",
   "execution_count": 15,
   "id": "de75c273",
   "metadata": {},
   "outputs": [
    {
     "data": {
      "text/html": [
       "\n",
       "        <div id=\"6arXzZKH5EMiZQHqoWfzDo\"></div>\n",
       "        <script>netpixi.render('6arXzZKH5EMiZQHqoWfzDo', 'facebook.net.gz', 1, true, true, false);</script>\n",
       "    "
      ],
      "text/plain": [
       "<IPython.core.display.HTML object>"
      ]
     },
     "metadata": {},
     "output_type": "display_data"
    }
   ],
   "source": [
    "r = netpixi.render('facebook.net.gz', infinite = True, aspect = 1)"
   ]
  },
  {
   "cell_type": "code",
   "execution_count": 16,
   "id": "95781752",
   "metadata": {},
   "outputs": [
    {
     "data": {
      "text/html": [
       "\n",
       "        <div id=\"iGvwX4cJx6LY79dG7aFHWG\"></div>\n",
       "        <script>netpixi.call('iGvwX4cJx6LY79dG7aFHWG', '6arXzZKH5EMiZQHqoWfzDo', 'normalizeGraph', 'eyJ0eXBlIjogInZlcnRleCIsICJwcm9wcyI6IHsic3JjIjogImNvbnN0cmFpbnQiLCAibWluIjogMTAsICJtYXgiOiAzMH19Cg==');</script>\n",
       "    "
      ],
      "text/plain": [
       "<IPython.core.display.HTML object>"
      ]
     },
     "metadata": {},
     "output_type": "display_data"
    }
   ],
   "source": [
    "r.vertex_scale('constraint', 10, 30)"
   ]
  },
  {
   "cell_type": "code",
   "execution_count": null,
   "id": "82c63945",
   "metadata": {},
   "outputs": [],
   "source": []
  }
 ],
 "metadata": {
  "kernelspec": {
   "display_name": "Python 3 (ipykernel)",
   "language": "python",
   "name": "python3"
  },
  "language_info": {
   "codemirror_mode": {
    "name": "ipython",
    "version": 3
   },
   "file_extension": ".py",
   "mimetype": "text/x-python",
   "name": "python",
   "nbconvert_exporter": "python",
   "pygments_lexer": "ipython3",
   "version": "3.10.6"
  }
 },
 "nbformat": 4,
 "nbformat_minor": 5
}
