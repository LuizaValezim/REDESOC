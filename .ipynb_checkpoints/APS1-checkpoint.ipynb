{
 "cells": [
  {
   "cell_type": "markdown",
   "id": "46718662",
   "metadata": {},
   "source": [
    "APS 1 \n",
    "Antonio Fonseca\n",
    "Ellen Shen\n",
    "Luiza Valezim"
   ]
  },
  {
   "cell_type": "code",
   "execution_count": 1,
   "id": "7e727310",
   "metadata": {},
   "outputs": [
    {
     "data": {
      "text/html": [
       "\n",
       "    <script src=\"/files/netpixi.min.js\"></script>\n"
      ],
      "text/plain": [
       "<IPython.core.display.HTML object>"
      ]
     },
     "metadata": {},
     "output_type": "display_data"
    },
    {
     "name": "stderr",
     "output_type": "stream",
     "text": [
      "<frozen importlib._bootstrap>:914: ImportWarning: VendorImporter.find_spec() not found; falling back to find_module()\n",
      "/usr/local/lib/python3.10/site-packages/seaborn/rcmod.py:400: DeprecationWarning: distutils Version classes are deprecated. Use packaging.version instead.\n",
      "  if LooseVersion(mpl.__version__) >= \"3.0\":\n",
      "/usr/local/lib/python3.10/site-packages/setuptools/_distutils/version.py:346: DeprecationWarning: distutils Version classes are deprecated. Use packaging.version instead.\n",
      "  other = LooseVersion(other)\n"
     ]
    }
   ],
   "source": [
    "import seaborn\n",
    "import netpixi\n",
    "from netpixi.integration.gt import *\n",
    "from regression.integration.gt import *\n",
    "import csv\n"
   ]
  },
  {
   "cell_type": "code",
   "execution_count": 2,
   "id": "67268dce",
   "metadata": {},
   "outputs": [],
   "source": [
    "g = Graph(directed=False) # não-dirigido\n",
    "li=[]\n",
    "with open('facebook_large/musae_facebook_edges.csv', 'r') as myfile:\n",
    "    csv_reader = csv.reader(myfile, delimiter='\\n')\n",
    "    next(csv_reader)\n",
    "    myline = myfile.readline()\n",
    "    while myline:\n",
    "        lista = myline.split(',')\n",
    "        a = int(lista[0])\n",
    "        b = int(lista[1])\n",
    "        if a not in li:\n",
    "            li.append(a)\n",
    "            g.add_vertex(a)\n",
    "        if b not in li:\n",
    "            li.append(b)\n",
    "            g.add_vertex(b)\n",
    "        myline = myfile.readline()     \n",
    "del li\n",
    "with open('facebook_large/musae_facebook_edges.csv', 'r') as myfile:\n",
    "    csv_reader = csv.reader(myfile, delimiter='\\n')\n",
    "    next(csv_reader)\n",
    "    myline = myfile.readline()\n",
    "    while myline:\n",
    "        lista = myline.split(',')\n",
    "        a = int(lista[0])\n",
    "        b = int(lista[1])\n",
    "        try:\n",
    "            g.add_edge(g.get_vertex(a),g.get_vertex(b))\n",
    "        except ValueError:\n",
    "            pass\n",
    "        myline = myfile.readline()"
   ]
  },
  {
   "cell_type": "code",
   "execution_count": 3,
   "id": "6325141a",
   "metadata": {},
   "outputs": [
    {
     "name": "stdout",
     "output_type": "stream",
     "text": [
      "número de vértices de g: 22470\n",
      "número de arestas de g: 170823\n"
     ]
    }
   ],
   "source": [
    "m = g.num_edges()\n",
    "n = g.num_vertices()\n",
    "print('número de vértices de g:', g.num_vertices())\n",
    "print('número de arestas de g:', g.num_edges())"
   ]
  },
  {
   "cell_type": "code",
   "execution_count": 4,
   "id": "b9a309b2",
   "metadata": {},
   "outputs": [
    {
     "name": "stdout",
     "output_type": "stream",
     "text": [
      "Temos 22470 arestas e uma densidade de 0.00068\n"
     ]
    }
   ],
   "source": [
    "max_edges = n * (n - 1) // 2\n",
    "d = m / max_edges\n",
    "print('Temos {} arestas e uma densidade de {:.5f}'.format(n,d))"
   ]
  },
  {
   "cell_type": "code",
   "execution_count": 5,
   "id": "05d3a454",
   "metadata": {},
   "outputs": [],
   "source": [
    "data = gt_data(g)\n"
   ]
  },
  {
   "cell_type": "markdown",
   "id": "1138837a",
   "metadata": {},
   "source": [
    "Degree"
   ]
  },
  {
   "cell_type": "code",
   "execution_count": 6,
   "id": "3b9bfb9a",
   "metadata": {},
   "outputs": [],
   "source": [
    "in_degrees = []\n",
    "for v in g.all_vertices():\n",
    "    in_degrees.append(v.in_degree())\n",
    "\n",
    "out_degrees = []\n",
    "for v in g.all_vertices():\n",
    "    out_degrees.append(v.out_degree())\n",
    "\n",
    "degrees = []\n",
    "for v in g.all_vertices():\n",
    "    degrees.append(v.total_degree())"
   ]
  },
  {
   "cell_type": "code",
   "execution_count": 7,
   "id": "f870ab1e",
   "metadata": {},
   "outputs": [
    {
     "data": {
      "text/html": [
       "<div>\n",
       "<style scoped>\n",
       "    .dataframe tbody tr th:only-of-type {\n",
       "        vertical-align: middle;\n",
       "    }\n",
       "\n",
       "    .dataframe tbody tr th {\n",
       "        vertical-align: top;\n",
       "    }\n",
       "\n",
       "    .dataframe thead th {\n",
       "        text-align: right;\n",
       "    }\n",
       "</style>\n",
       "<table border=\"1\" class=\"dataframe\">\n",
       "  <thead>\n",
       "    <tr style=\"text-align: right;\">\n",
       "      <th></th>\n",
       "      <th>in_degree</th>\n",
       "      <th>out_degree</th>\n",
       "      <th>degree</th>\n",
       "    </tr>\n",
       "    <tr>\n",
       "      <th>id</th>\n",
       "      <th></th>\n",
       "      <th></th>\n",
       "      <th></th>\n",
       "    </tr>\n",
       "  </thead>\n",
       "  <tbody>\n",
       "    <tr>\n",
       "      <th>0</th>\n",
       "      <td>0</td>\n",
       "      <td>1</td>\n",
       "      <td>1</td>\n",
       "    </tr>\n",
       "    <tr>\n",
       "      <th>18427</th>\n",
       "      <td>0</td>\n",
       "      <td>2</td>\n",
       "      <td>2</td>\n",
       "    </tr>\n",
       "    <tr>\n",
       "      <th>1</th>\n",
       "      <td>0</td>\n",
       "      <td>51</td>\n",
       "      <td>51</td>\n",
       "    </tr>\n",
       "    <tr>\n",
       "      <th>21708</th>\n",
       "      <td>0</td>\n",
       "      <td>3</td>\n",
       "      <td>3</td>\n",
       "    </tr>\n",
       "    <tr>\n",
       "      <th>22208</th>\n",
       "      <td>0</td>\n",
       "      <td>3</td>\n",
       "      <td>3</td>\n",
       "    </tr>\n",
       "    <tr>\n",
       "      <th>...</th>\n",
       "      <td>...</td>\n",
       "      <td>...</td>\n",
       "      <td>...</td>\n",
       "    </tr>\n",
       "    <tr>\n",
       "      <th>21410</th>\n",
       "      <td>0</td>\n",
       "      <td>1</td>\n",
       "      <td>1</td>\n",
       "    </tr>\n",
       "    <tr>\n",
       "      <th>22232</th>\n",
       "      <td>0</td>\n",
       "      <td>1</td>\n",
       "      <td>1</td>\n",
       "    </tr>\n",
       "    <tr>\n",
       "      <th>1854</th>\n",
       "      <td>0</td>\n",
       "      <td>257</td>\n",
       "      <td>257</td>\n",
       "    </tr>\n",
       "    <tr>\n",
       "      <th>21903</th>\n",
       "      <td>0</td>\n",
       "      <td>1</td>\n",
       "      <td>1</td>\n",
       "    </tr>\n",
       "    <tr>\n",
       "      <th>21980</th>\n",
       "      <td>0</td>\n",
       "      <td>1</td>\n",
       "      <td>1</td>\n",
       "    </tr>\n",
       "  </tbody>\n",
       "</table>\n",
       "<p>22470 rows × 3 columns</p>\n",
       "</div>"
      ],
      "text/plain": [
       "       in_degree  out_degree  degree\n",
       "id                                  \n",
       "0              0           1       1\n",
       "18427          0           2       2\n",
       "1              0          51      51\n",
       "21708          0           3       3\n",
       "22208          0           3       3\n",
       "...          ...         ...     ...\n",
       "21410          0           1       1\n",
       "22232          0           1       1\n",
       "1854           0         257     257\n",
       "21903          0           1       1\n",
       "21980          0           1       1\n",
       "\n",
       "[22470 rows x 3 columns]"
      ]
     },
     "execution_count": 7,
     "metadata": {},
     "output_type": "execute_result"
    }
   ],
   "source": [
    "data['in_degree'] = in_degrees\n",
    "data['out_degree'] = out_degrees\n",
    "data['degree'] = degrees\n",
    "data"
   ]
  },
  {
   "cell_type": "code",
   "execution_count": 8,
   "id": "7353f568",
   "metadata": {},
   "outputs": [
    {
     "data": {
      "text/plain": [
       "count    22470.0\n",
       "mean         0.0\n",
       "std          0.0\n",
       "min          0.0\n",
       "25%          0.0\n",
       "50%          0.0\n",
       "75%          0.0\n",
       "max          0.0\n",
       "Name: in_degree, dtype: float64"
      ]
     },
     "execution_count": 8,
     "metadata": {},
     "output_type": "execute_result"
    },
    {
     "data": {
      "image/png": "[encoded data removed]",
      "text/plain": [
       "<Figure size 640x480 with 1 Axes>"
      ]
     },
     "metadata": {},
     "output_type": "display_data"
    }
   ],
   "source": [
    "data['in_degree'].hist(bins=range(100))\n",
    "data['in_degree'].describe()"
   ]
  },
  {
   "cell_type": "code",
   "execution_count": 9,
   "id": "94aa30fe",
   "metadata": {},
   "outputs": [
    {
     "data": {
      "text/plain": [
       "count    22470.000000\n",
       "mean        15.204539\n",
       "std         26.414971\n",
       "min          1.000000\n",
       "25%          3.000000\n",
       "50%          7.000000\n",
       "75%         17.000000\n",
       "max        709.000000\n",
       "Name: degree, dtype: float64"
      ]
     },
     "execution_count": 9,
     "metadata": {},
     "output_type": "execute_result"
    },
    {
     "data": {
      "image/png": "[encoded data removed]",
      "text/plain": [
       "<Figure size 640x480 with 1 Axes>"
      ]
     },
     "metadata": {},
     "output_type": "display_data"
    }
   ],
   "source": [
    "data['degree'].hist(bins=range(100))\n",
    "data['degree'].describe()"
   ]
  },
  {
   "cell_type": "code",
   "execution_count": 10,
   "id": "a6b50f5e",
   "metadata": {
    "scrolled": true
   },
   "outputs": [
    {
     "data": {
      "text/plain": [
       "count    22470.000000\n",
       "mean        15.204539\n",
       "std         26.414971\n",
       "min          1.000000\n",
       "25%          3.000000\n",
       "50%          7.000000\n",
       "75%         17.000000\n",
       "max        709.000000\n",
       "Name: degree, dtype: float64"
      ]
     },
     "execution_count": 10,
     "metadata": {},
     "output_type": "execute_result"
    },
    {
     "data": {
      "image/png": "[encoded data removed]",
      "text/plain": [
       "<Figure size 640x480 with 1 Axes>"
      ]
     },
     "metadata": {},
     "output_type": "display_data"
    }
   ],
   "source": [
    "data['degree'].hist(bins=range(100))\n",
    "data['degree'].describe()"
   ]
  },
  {
   "cell_type": "code",
   "execution_count": 11,
   "id": "b6fbcc77",
   "metadata": {},
   "outputs": [
    {
     "name": "stdout",
     "output_type": "stream",
     "text": [
      "1\n",
      "2\n",
      "3\n"
     ]
    },
    {
     "data": {
      "text/html": [
       "\n",
       "        <div id=\"K9DoatJkA8hNstFUdtszHJ\"></div>\n",
       "        <script>netpixi.render('K9DoatJkA8hNstFUdtszHJ', 'exemplo.net.gz', 1.7777777777777777, true, false, false);</script>\n",
       "    "
      ],
      "text/plain": [
       "<IPython.core.display.HTML object>"
      ]
     },
     "metadata": {},
     "output_type": "display_data"
    }
   ],
   "source": [
    "m = gt_draw.sfdp_layout(g)\n",
    "# m = gt_draw.arf_layout(g)\n",
    "# m = gt_draw.fruchterman_reingold_layout(g)\n",
    "\n",
    "print(\"1\")\n",
    "gt_move(g, m)\n",
    "print('2')\n",
    "gt_save(g, 'exemplo.net.gz')\n",
    "print('3')\n",
    "r = netpixi.render('exemplo.net.gz');"
   ]
  },
  {
   "cell_type": "code",
   "execution_count": 13,
   "id": "7ec9572c",
   "metadata": {},
   "outputs": [
    {
     "data": {
      "text/html": [
       "\n",
       "        <div id=\"a6XaNiJBMP4GMxieCU7UbX\"></div>\n",
       "        <script>netpixi.call('a6XaNiJBMP4GMxieCU7UbX', 'K9DoatJkA8hNstFUdtszHJ', 'changeGraph', 'eyJ0eXBlIjogInNldHRpbmdzIiwgInByb3BzIjogeyJ2ZXJ0ZXgiOiB7ImNvbG9yIjogMTY3NzcyMTUsICJzaXplIjogMn19fQo=');</script>\n",
       "    "
      ],
      "text/plain": [
       "<IPython.core.display.HTML object>"
      ]
     },
     "metadata": {},
     "output_type": "display_data"
    }
   ],
   "source": [
    "r.vertex_default(color=0xffffff, size=2)\n"
   ]
  },
  {
   "cell_type": "code",
   "execution_count": null,
   "id": "656bc903",
   "metadata": {},
   "outputs": [],
   "source": []
  }
 ],
 "metadata": {
  "kernelspec": {
   "display_name": "Python 3 (ipykernel)",
   "language": "python",
   "name": "python3"
  },
  "language_info": {
   "codemirror_mode": {
    "name": "ipython",
    "version": 3
   },
   "file_extension": ".py",
   "mimetype": "text/x-python",
   "name": "python",
   "nbconvert_exporter": "python",
   "pygments_lexer": "ipython3",
   "version": "3.10.6"
  }
 },
 "nbformat": 4,
 "nbformat_minor": 5
}
