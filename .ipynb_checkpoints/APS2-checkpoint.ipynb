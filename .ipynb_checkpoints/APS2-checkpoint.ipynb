{
 "cells": [
  {
   "cell_type": "markdown",
   "id": "990b9e42",
   "metadata": {},
   "source": [
    "# APS 2"
   ]
  },
  {
   "cell_type": "markdown",
   "id": "971a2e8c",
   "metadata": {},
   "source": [
    "Antonio Fonseca, Ellen Shen e Luiza Valezim"
   ]
  },
  {
   "cell_type": "markdown",
   "id": "2c45c747",
   "metadata": {},
   "source": [
    "Esta APS consiste em analisar o cálculo de métricas locais de vértices e a interpretação sobre essas redes e essas métricas. O dataset escolhido foi: https://snap.stanford.edu/data/facebook-large-page-page-network.html. Esse dataset tem como objetivo ver se há uma relação entre o conteúdo / assunto de cada página com suas curtidas em outras páginas.\n",
    "\n",
    "Análise inicial dos dados:\n",
    "- **O que os vértices da rede representam?** Eles representam as páginas que existem na rede social Facebook.\n",
    "- **O que as arestas da rede representam?** As arestas são as curtidas dadas entre as páginas.\n",
    "- **O que os grupos formados pela tarefa 4 representam?** Os grupos formados podem ser consideradas páginas que produzem conteúdo sobre assuntos semelhantes."
   ]
  },
  {
   "cell_type": "code",
   "execution_count": null,
   "id": "c61b05af",
   "metadata": {},
   "outputs": [],
   "source": [
    "import netpixi\n",
    "import numpy as np\n",
    "from netpixi.integration.gt import *\n",
    "from regression.integration.gt import *\n",
    "from graph_tool import centrality"
   ]
  },
  {
   "cell_type": "markdown",
   "id": "da431e4d",
   "metadata": {},
   "source": [
    "colocar imagem "
   ]
  },
  {
   "cell_type": "code",
   "execution_count": null,
   "id": "994590e0",
   "metadata": {},
   "outputs": [],
   "source": [
    "#utilizando o grafo da APS1\n",
    "grafo = gt_load('facebook.net.gz')"
   ]
  },
  {
   "cell_type": "markdown",
   "id": "b40b3769",
   "metadata": {},
   "source": [
    "###  Redução a um componente"
   ]
  },
  {
   "cell_type": "markdown",
   "id": "27c4ba48",
   "metadata": {},
   "source": [
    "### O que os vértices da rede representam?\n",
    "Os vertices da rede reprensentam paginas verificadas no Facebook, de instituições governamentais, figuras do meio politico e veiculos de noticias.\n",
    "\n",
    "### O que as arestas da rede representam? /\n",
    "As arestas representam interaçoes mutuas entre as plataformas (troca de likes)\n",
    "\n",
    "### O que os grupos formados pela tarefa 4 representam?\n",
    "O grupos são bolhas de troca de informação, onde podemos assumir que todos os vertices (paginas) serão expostos aos posts dos demais membros da rede"
   ]
  },
  {
   "cell_type": "code",
   "execution_count": null,
   "id": "4bffceb0",
   "metadata": {},
   "outputs": [],
   "source": [
    "grafo = gt_clean(grafo)\n",
    "\n",
    "m = gt_draw.sfdp_layout(grafo)\n",
    "gt_move(grafo, m)\n",
    "gt_save(grafo, 'exemplo.net.gz')\n",
    "# r = netpixi.render('exemplo.net.gz', infinite = True)"
   ]
  },
  {
   "cell_type": "markdown",
   "id": "4e0c6810",
   "metadata": {},
   "source": [
    "## Métricas de Centralidade"
   ]
  },
  {
   "cell_type": "markdown",
   "id": "aa9d2bbc",
   "metadata": {},
   "source": [
    "Essas métricas permitem a avaliação da importância de um nó dentro da rede."
   ]
  },
  {
   "cell_type": "code",
   "execution_count": null,
   "id": "e3db8937",
   "metadata": {},
   "outputs": [],
   "source": []
  },
  {
   "cell_type": "markdown",
   "id": "da483090",
   "metadata": {},
   "source": [
    "### Degree"
   ]
  },
  {
   "cell_type": "markdown",
   "id": "d03414a6",
   "metadata": {},
   "source": [
    "A centralidade de degree representa o número de ligações que um nó possui, dividido pelo número de ligações possíveis, ou seja, a quantidade de arestas do vértices.  Esta métrica é usada para identificar os nós que têm o maior número de ligações."
   ]
  },
  {
   "cell_type": "code",
   "execution_count": null,
   "id": "0452e5ba",
   "metadata": {},
   "outputs": [],
   "source": [
    "#calculando a centralidade degree\n",
    "degree = gt_total_degree(grafo)\n",
    "grafo.add_vp('degree', degree)"
   ]
  },
  {
   "cell_type": "code",
   "execution_count": null,
   "id": "aaa8a27e",
   "metadata": {
    "scrolled": true
   },
   "outputs": [],
   "source": [
    "gt_data(grafo).sort_values(\"degree\", ascending = False)"
   ]
  },
  {
   "cell_type": "code",
   "execution_count": null,
   "id": "e5a46c82",
   "metadata": {},
   "outputs": [],
   "source": [
    "# r = netpixi.render('facebook.net.gz', infinite = True, aspect = 1);"
   ]
  },
  {
   "cell_type": "code",
   "execution_count": null,
   "id": "1f1e5e11",
   "metadata": {},
   "outputs": [],
   "source": [
    "# r.vertex_set_key('id')\n",
    "r.vertex_unset_key()\n",
    "r.vertex_scale('degree', 1, 10)"
   ]
  },
  {
   "cell_type": "markdown",
   "id": "56754753",
   "metadata": {},
   "source": [
    "**Ter um degree alto:** Pode significar algumas coisas. Se for direcionado ao site, significa que o site tem alto engajamento, simbolizando que muitas pessoas curtem o seu conteúdo. Porém, se sair do site e for direcionado a um outro site, simboliza que o site engaja em outros sites. Esse engajamento, no nosso caso, pode ser traduzido por interesses em comum."
   ]
  },
  {
   "cell_type": "markdown",
   "id": "976a58a9",
   "metadata": {},
   "source": [
    "**Ter um degree baixo:** Significa que ele é ausente na rede social ou que ele não traz engajamento sobre o seu conteúdo."
   ]
  },
  {
   "cell_type": "markdown",
   "id": "11bcc950",
   "metadata": {},
   "source": [
    "relacionar aos dados "
   ]
  },
  {
   "cell_type": "markdown",
   "id": "092324bb",
   "metadata": {},
   "source": [
    "---\n",
    "\n",
    "### Betweenness"
   ]
  },
  {
   "cell_type": "markdown",
   "id": "3267e9d8",
   "metadata": {},
   "source": [
    "A centralidade de betweeness representa a quantidade de geodésicas (caminhos com menor comprimento possível) que passam pelo vértice. Esta métrica permite analisar o potencial de comunicação de um ator dentro da rede."
   ]
  },
  {
   "cell_type": "code",
   "execution_count": null,
   "id": "405fa6f5",
   "metadata": {},
   "outputs": [],
   "source": [
    "#calculando a centralidade betweenness\n",
    "betweenness, _ = centrality.betweenness(grafo)\n",
    "grafo.add_vp('betweenness', betweenness)"
   ]
  },
  {
   "cell_type": "code",
   "execution_count": null,
   "id": "50ef51fc",
   "metadata": {},
   "outputs": [],
   "source": [
    "gt_data(grafo).sort_values(\"betweenness\", ascending = False)"
   ]
  },
  {
   "cell_type": "code",
   "execution_count": null,
   "id": "1dd12ca7",
   "metadata": {},
   "outputs": [],
   "source": [
    "r = netpixi.render('facebook.net.gz', infinite = True, aspect = 1)"
   ]
  },
  {
   "cell_type": "code",
   "execution_count": null,
   "id": "fa7abc45",
   "metadata": {},
   "outputs": [],
   "source": [
    "#r.vertex_set_key('id')\n",
    "r.vertex_scale('betweenness', 1, 20)"
   ]
  },
  {
   "cell_type": "markdown",
   "id": "b10fc16d",
   "metadata": {},
   "source": [
    "**Ter betweenness alto:** Significa que há maior probabilidade de o site ter o conteúdo similar aos que são interligados por outro site intermediador."
   ]
  },
  {
   "cell_type": "markdown",
   "id": "70fa5b95",
   "metadata": {},
   "source": [
    "**Ter betweenness baixo:** Significa que há menor probabilidade desses conteúdos serem parecidos."
   ]
  },
  {
   "cell_type": "markdown",
   "id": "477d135d",
   "metadata": {},
   "source": [
    "relacionar aos dados "
   ]
  },
  {
   "cell_type": "markdown",
   "id": "ebdc6dcf",
   "metadata": {},
   "source": [
    "---\n",
    "\n",
    "### Closeness"
   ]
  },
  {
   "cell_type": "markdown",
   "id": "1d8b7c21",
   "metadata": {},
   "source": [
    "A centralidade de closeness representa a proximidade (inverso da distância) média do vértice para os outros vértices da rede. Esta métrica indica a capacidade de alcance de um nó dentro da rede."
   ]
  },
  {
   "cell_type": "code",
   "execution_count": null,
   "id": "90f933be",
   "metadata": {},
   "outputs": [],
   "source": [
    "#calculando a centralidade closeness\n",
    "closeness = centrality.closeness(grafo)\n",
    "grafo.add_vp('closeness', closeness)"
   ]
  },
  {
   "cell_type": "code",
   "execution_count": null,
   "id": "7071e628",
   "metadata": {},
   "outputs": [],
   "source": [
    "gt_data(grafo).sort_values(\"closeness\", ascending = False)"
   ]
  },
  {
   "cell_type": "code",
   "execution_count": null,
   "id": "f9fc7dd2",
   "metadata": {},
   "outputs": [],
   "source": [
    "r = netpixi.render('facebook.net.gz', infinite = True, aspect = 1)"
   ]
  },
  {
   "cell_type": "code",
   "execution_count": null,
   "id": "7b75179a",
   "metadata": {},
   "outputs": [],
   "source": [
    "#r.vertex_set_key('id')\n",
    "r.vertex_scale('closeness', 0.5, 3)"
   ]
  },
  {
   "cell_type": "markdown",
   "id": "a73ed010",
   "metadata": {},
   "source": [
    "**Ter closeness alto:** Quando temos dois sites próximos, podemos concluir que os seus conteúdos são parecidos, pois provavelmente fazem parte do mesmo grupo de assuntos.\n"
   ]
  },
  {
   "cell_type": "markdown",
   "id": "23a0958e",
   "metadata": {},
   "source": [
    "**Ter closeness baixo:** Quando temos dois sites distantes, supomos que os seus conteúdos tratam de assuntos bem diferentes, mas que devem ter alguma conexão, dado o engajamento."
   ]
  },
  {
   "cell_type": "markdown",
   "id": "9e1055a6",
   "metadata": {},
   "source": [
    "relacionar aos dados "
   ]
  },
  {
   "cell_type": "markdown",
   "id": "e8fe77f9",
   "metadata": {},
   "source": [
    "---\n",
    "\n",
    "### Clustering coefficient"
   ]
  },
  {
   "cell_type": "markdown",
   "id": "c11479ed",
   "metadata": {},
   "source": [
    "*explicacao*"
   ]
  },
  {
   "cell_type": "code",
   "execution_count": null,
   "id": "9bc6794e",
   "metadata": {},
   "outputs": [],
   "source": [
    "from graph_tool import clustering\n",
    "\n",
    "clustering_coef = clustering.local_clustering(grafo)\n",
    "grafo.add_vp('clustering', clustering_coef)"
   ]
  },
  {
   "cell_type": "code",
   "execution_count": null,
   "id": "f481f4ce",
   "metadata": {},
   "outputs": [],
   "source": [
    "gt_data(grafo).sort_values(\"clustering\", ascending = False)"
   ]
  },
  {
   "cell_type": "code",
   "execution_count": null,
   "id": "a63a60cb",
   "metadata": {},
   "outputs": [],
   "source": [
    "r = netpixi.render('facebook.net.gz', infinite = True, aspect = 1)"
   ]
  },
  {
   "cell_type": "code",
   "execution_count": null,
   "id": "1873f858",
   "metadata": {},
   "outputs": [],
   "source": [
    "r.vertex_scale('clustering', 10, 30)"
   ]
  },
  {
   "cell_type": "markdown",
   "id": "501829b1",
   "metadata": {},
   "source": [
    "**Ter Clustering coefficient alto:** Nesse caso, acreditamos que confirma a nossa hipótese inicial de que, quando há uma conexão (nesse caso, likes) entre sites, o seu conteúdo é similar ao do site curtido, pois sites parecidos tem mais probabilidade de curtirem um ao outro."
   ]
  },
  {
   "cell_type": "markdown",
   "id": "b8196727",
   "metadata": {},
   "source": [
    "**Ter Clustering coefficient baixo:** Nos faz questionar a nossa hipótese, visto que talvez tenha sido um like sem querer ou um site que seja muito generalista e aborde vários assuntos"
   ]
  },
  {
   "cell_type": "markdown",
   "id": "e2e8f375",
   "metadata": {},
   "source": [
    "relacionar aos dados "
   ]
  },
  {
   "cell_type": "markdown",
   "id": "9bfaffb9",
   "metadata": {},
   "source": [
    "---\n",
    "\n",
    "### Lacunas estruturais"
   ]
  },
  {
   "cell_type": "markdown",
   "id": "f6a2c653",
   "metadata": {},
   "source": [
    "Na teoria de *lacunas estruturais,* a existência de uma aresta $(u, v)$ pode ser interpretada como um *investimento* que $u$ faz para manter uma relação com $v$, esperando que essa relação lhe dê acesso a informações e outros recursos."
   ]
  },
  {
   "cell_type": "code",
   "execution_count": null,
   "id": "42f71bd0",
   "metadata": {},
   "outputs": [],
   "source": [
    "lacunas = gt_effective_size(grafo)\n",
    "grafo.add_vp('effsize', lacunas)"
   ]
  },
  {
   "cell_type": "code",
   "execution_count": null,
   "id": "754da161",
   "metadata": {},
   "outputs": [],
   "source": [
    "gt_data(grafo).sort_values(\"effsize\", ascending = False)"
   ]
  },
  {
   "cell_type": "code",
   "execution_count": null,
   "id": "6200f0bf",
   "metadata": {},
   "outputs": [],
   "source": [
    "r = netpixi.render('facebook.net.gz', infinite = True, aspect = 1)"
   ]
  },
  {
   "cell_type": "code",
   "execution_count": null,
   "id": "9e691546",
   "metadata": {},
   "outputs": [],
   "source": [
    "r.vertex_scale('effsize', 10, 30)"
   ]
  },
  {
   "cell_type": "code",
   "execution_count": null,
   "id": "5999d2fa",
   "metadata": {},
   "outputs": [],
   "source": []
  }
 ],
 "metadata": {
  "kernelspec": {
   "display_name": "Python 3 (ipykernel)",
   "language": "python",
   "name": "python3"
  },
  "language_info": {
   "codemirror_mode": {
    "name": "ipython",
    "version": 3
   },
   "file_extension": ".py",
   "mimetype": "text/x-python",
   "name": "python",
   "nbconvert_exporter": "python",
   "pygments_lexer": "ipython3",
   "version": "3.10.6"
  }
 },
 "nbformat": 4,
 "nbformat_minor": 5
}
